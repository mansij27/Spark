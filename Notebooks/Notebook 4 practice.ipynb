{
 "cells": [
  {
   "cell_type": "code",
   "execution_count": 0,
   "metadata": {
    "application/vnd.databricks.v1+cell": {
     "cellMetadata": {
      "byteLimit": 2048000,
      "rowLimit": 10000
     },
     "inputWidgets": {},
     "nuid": "04c51cfe-3e0b-4270-a716-9d101535636d",
     "showTitle": false,
     "tableResultSettingsMap": {},
     "title": ""
    }
   },
   "outputs": [
    {
     "output_type": "display_data",
     "data": {
      "text/html": [
       "<style scoped>\n",
       "  .table-result-container {\n",
       "    max-height: 300px;\n",
       "    overflow: auto;\n",
       "  }\n",
       "  table, th, td {\n",
       "    border: 1px solid black;\n",
       "    border-collapse: collapse;\n",
       "  }\n",
       "  th, td {\n",
       "    padding: 5px;\n",
       "  }\n",
       "  th {\n",
       "    text-align: left;\n",
       "  }\n",
       "</style><div class='table-result-container'><table class='table-result'><thead style='background-color: white'><tr><th>path</th><th>name</th><th>size</th><th>modificationTime</th></tr></thead><tbody><tr><td>dbfs:/FileStore/tables/BigMart_Sales-1.csv</td><td>BigMart_Sales-1.csv</td><td>869537</td><td>1736074677000</td></tr><tr><td>dbfs:/FileStore/tables/BigMart_Sales.csv</td><td>BigMart_Sales.csv</td><td>869537</td><td>1736073335000</td></tr><tr><td>dbfs:/FileStore/tables/CSV/</td><td>CSV/</td><td>0</td><td>0</td></tr><tr><td>dbfs:/FileStore/tables/Team_Stats.csv</td><td>Team_Stats.csv</td><td>2335</td><td>1737115476000</td></tr><tr><td>dbfs:/FileStore/tables/User_Data.csv</td><td>User_Data.csv</td><td>23609</td><td>1737115475000</td></tr><tr><td>dbfs:/FileStore/tables/chipotle-1.tsv</td><td>chipotle-1.tsv</td><td>364975</td><td>1736869190000</td></tr><tr><td>dbfs:/FileStore/tables/chipotle.tsv</td><td>chipotle.tsv</td><td>364975</td><td>1736869001000</td></tr><tr><td>dbfs:/FileStore/tables/drivers.json</td><td>drivers.json</td><td>180812</td><td>1736073334000</td></tr></tbody></table></div>"
      ]
     },
     "metadata": {
      "application/vnd.databricks.v1+output": {
       "addedWidgets": {},
       "aggData": [],
       "aggError": "",
       "aggOverflow": false,
       "aggSchema": [],
       "aggSeriesLimitReached": false,
       "aggType": "",
       "arguments": {},
       "columnCustomDisplayInfos": {},
       "data": [
        [
         "dbfs:/FileStore/tables/BigMart_Sales-1.csv",
         "BigMart_Sales-1.csv",
         869537,
         1736074677000
        ],
        [
         "dbfs:/FileStore/tables/BigMart_Sales.csv",
         "BigMart_Sales.csv",
         869537,
         1736073335000
        ],
        [
         "dbfs:/FileStore/tables/CSV/",
         "CSV/",
         0,
         0
        ],
        [
         "dbfs:/FileStore/tables/Team_Stats.csv",
         "Team_Stats.csv",
         2335,
         1737115476000
        ],
        [
         "dbfs:/FileStore/tables/User_Data.csv",
         "User_Data.csv",
         23609,
         1737115475000
        ],
        [
         "dbfs:/FileStore/tables/chipotle-1.tsv",
         "chipotle-1.tsv",
         364975,
         1736869190000
        ],
        [
         "dbfs:/FileStore/tables/chipotle.tsv",
         "chipotle.tsv",
         364975,
         1736869001000
        ],
        [
         "dbfs:/FileStore/tables/drivers.json",
         "drivers.json",
         180812,
         1736073334000
        ]
       ],
       "datasetInfos": [],
       "dbfsResultPath": null,
       "isJsonSchema": true,
       "metadata": {
        "isDbfsCommandResult": false
       },
       "overflow": false,
       "plotOptions": {
        "customPlotOptions": {},
        "displayType": "table",
        "pivotAggregation": null,
        "pivotColumns": null,
        "xColumns": null,
        "yColumns": null
       },
       "removedWidgets": [],
       "schema": [
        {
         "metadata": "{}",
         "name": "path",
         "type": "\"string\""
        },
        {
         "metadata": "{}",
         "name": "name",
         "type": "\"string\""
        },
        {
         "metadata": "{}",
         "name": "size",
         "type": "\"long\""
        },
        {
         "metadata": "{}",
         "name": "modificationTime",
         "type": "\"long\""
        }
       ],
       "type": "table"
      }
     },
     "output_type": "display_data"
    }
   ],
   "source": [
    "# to list existing tables\n",
    "%fs ls /FileStore/tables"
   ]
  },
  {
   "cell_type": "code",
   "execution_count": 0,
   "metadata": {
    "application/vnd.databricks.v1+cell": {
     "cellMetadata": {
      "byteLimit": 2048000,
      "rowLimit": 10000
     },
     "inputWidgets": {},
     "nuid": "fd09723d-488a-423a-8cfe-ab92f1dcbffc",
     "showTitle": false,
     "tableResultSettingsMap": {},
     "title": ""
    }
   },
   "outputs": [
    {
     "output_type": "display_data",
     "data": {
      "text/html": [
       "<style scoped>\n",
       "  .table-result-container {\n",
       "    max-height: 300px;\n",
       "    overflow: auto;\n",
       "  }\n",
       "  table, th, td {\n",
       "    border: 1px solid black;\n",
       "    border-collapse: collapse;\n",
       "  }\n",
       "  th, td {\n",
       "    padding: 5px;\n",
       "  }\n",
       "  th {\n",
       "    text-align: left;\n",
       "  }\n",
       "</style><div class='table-result-container'><table class='table-result'><thead style='background-color: white'><tr><th>Team</th><th>Goals</th><th>Shots on target</th><th>Shots off target</th><th>Shooting Accuracy</th><th>% Goals-to-shots</th><th>Total shots (inc. Blocked)</th><th>Hit Woodwork</th><th>Penalty goals</th><th>Penalties not scored</th><th>Headed goals</th><th>Passes</th><th>Passes completed</th><th>Passing Accuracy</th><th>Touches</th><th>Crosses</th><th>Dribbles</th><th>Corners Taken</th><th>Tackles</th><th>Clearances</th><th>Interceptions</th><th>Clearances off line</th><th>Clean Sheets</th><th>Blocks</th><th>Goals conceded</th><th>Saves made</th><th>Saves-to-shots ratio</th><th>Fouls Won</th><th>Fouls Conceded</th><th>Offsides</th><th>Yellow Cards</th><th>Red Cards</th><th>Subs on</th><th>Subs off</th><th>Players Used</th></tr></thead><tbody><tr><td>Croatia</td><td>4</td><td>13</td><td>12</td><td>51.9%</td><td>16.0%</td><td>32</td><td>0</td><td>0</td><td>0</td><td>2</td><td>1076</td><td>828</td><td>76.9%</td><td>1706</td><td>60</td><td>42</td><td>14</td><td>49</td><td>83</td><td>56</td><td>null</td><td>0</td><td>10</td><td>3</td><td>13</td><td>81.3%</td><td>41</td><td>62</td><td>2</td><td>9</td><td>0</td><td>9</td><td>9</td><td>16</td></tr><tr><td>Czech Republic</td><td>4</td><td>13</td><td>18</td><td>41.9%</td><td>12.9%</td><td>39</td><td>0</td><td>0</td><td>0</td><td>0</td><td>1565</td><td>1223</td><td>78.1%</td><td>2358</td><td>46</td><td>68</td><td>21</td><td>62</td><td>98</td><td>37</td><td>2</td><td>1</td><td>10</td><td>6</td><td>9</td><td>60.1%</td><td>53</td><td>73</td><td>8</td><td>7</td><td>0</td><td>11</td><td>11</td><td>19</td></tr><tr><td>Denmark</td><td>4</td><td>10</td><td>10</td><td>50.0%</td><td>20.0%</td><td>27</td><td>1</td><td>0</td><td>0</td><td>3</td><td>1298</td><td>1082</td><td>83.3%</td><td>1873</td><td>43</td><td>32</td><td>16</td><td>40</td><td>61</td><td>59</td><td>0</td><td>1</td><td>10</td><td>5</td><td>10</td><td>66.7%</td><td>25</td><td>38</td><td>8</td><td>4</td><td>0</td><td>7</td><td>7</td><td>15</td></tr><tr><td>England</td><td>5</td><td>11</td><td>18</td><td>50.0%</td><td>17.2%</td><td>40</td><td>0</td><td>0</td><td>0</td><td>3</td><td>1488</td><td>1200</td><td>80.6%</td><td>2440</td><td>58</td><td>60</td><td>16</td><td>86</td><td>106</td><td>72</td><td>1</td><td>2</td><td>29</td><td>3</td><td>22</td><td>88.1%</td><td>43</td><td>45</td><td>6</td><td>5</td><td>0</td><td>11</td><td>11</td><td>16</td></tr><tr><td>France</td><td>3</td><td>22</td><td>24</td><td>37.9%</td><td>6.5%</td><td>65</td><td>1</td><td>0</td><td>0</td><td>0</td><td>2066</td><td>1803</td><td>87.2%</td><td>2909</td><td>55</td><td>76</td><td>28</td><td>71</td><td>76</td><td>58</td><td>0</td><td>1</td><td>7</td><td>5</td><td>6</td><td>54.6%</td><td>36</td><td>51</td><td>5</td><td>6</td><td>0</td><td>11</td><td>11</td><td>19</td></tr><tr><td>Germany</td><td>10</td><td>32</td><td>32</td><td>47.8%</td><td>15.6%</td><td>80</td><td>2</td><td>1</td><td>0</td><td>2</td><td>2774</td><td>2427</td><td>87.4%</td><td>3761</td><td>101</td><td>60</td><td>35</td><td>91</td><td>73</td><td>69</td><td>0</td><td>1</td><td>11</td><td>6</td><td>10</td><td>62.6%</td><td>63</td><td>49</td><td>12</td><td>4</td><td>0</td><td>15</td><td>15</td><td>17</td></tr><tr><td>Greece</td><td>5</td><td>8</td><td>18</td><td>30.7%</td><td>19.2%</td><td>32</td><td>1</td><td>1</td><td>1</td><td>0</td><td>1187</td><td>911</td><td>76.7%</td><td>2016</td><td>52</td><td>53</td><td>10</td><td>65</td><td>123</td><td>87</td><td>0</td><td>1</td><td>23</td><td>7</td><td>13</td><td>65.1%</td><td>67</td><td>48</td><td>12</td><td>9</td><td>1</td><td>12</td><td>12</td><td>20</td></tr><tr><td>Italy</td><td>6</td><td>34</td><td>45</td><td>43.0%</td><td>7.5%</td><td>110</td><td>2</td><td>0</td><td>0</td><td>2</td><td>3016</td><td>2531</td><td>83.9%</td><td>4363</td><td>75</td><td>75</td><td>30</td><td>98</td><td>137</td><td>136</td><td>1</td><td>2</td><td>18</td><td>7</td><td>20</td><td>74.1%</td><td>101</td><td>89</td><td>16</td><td>16</td><td>0</td><td>18</td><td>18</td><td>19</td></tr><tr><td>Netherlands</td><td>2</td><td>12</td><td>36</td><td>25.0%</td><td>4.1%</td><td>60</td><td>2</td><td>0</td><td>0</td><td>0</td><td>1556</td><td>1381</td><td>88.7%</td><td>2163</td><td>50</td><td>49</td><td>22</td><td>34</td><td>41</td><td>41</td><td>0</td><td>0</td><td>9</td><td>5</td><td>12</td><td>70.6%</td><td>35</td><td>30</td><td>3</td><td>5</td><td>0</td><td>7</td><td>7</td><td>15</td></tr><tr><td>Poland</td><td>2</td><td>15</td><td>23</td><td>39.4%</td><td>5.2%</td><td>48</td><td>0</td><td>0</td><td>0</td><td>1</td><td>1059</td><td>852</td><td>80.4%</td><td>1724</td><td>55</td><td>39</td><td>14</td><td>67</td><td>87</td><td>62</td><td>0</td><td>0</td><td>8</td><td>3</td><td>6</td><td>66.7%</td><td>48</td><td>56</td><td>3</td><td>7</td><td>1</td><td>7</td><td>7</td><td>17</td></tr><tr><td>Portugal</td><td>6</td><td>22</td><td>42</td><td>34.3%</td><td>9.3%</td><td>82</td><td>6</td><td>0</td><td>0</td><td>2</td><td>1891</td><td>1461</td><td>77.2%</td><td>2958</td><td>91</td><td>64</td><td>41</td><td>78</td><td>92</td><td>86</td><td>0</td><td>2</td><td>11</td><td>4</td><td>10</td><td>71.5%</td><td>73</td><td>90</td><td>10</td><td>12</td><td>0</td><td>14</td><td>14</td><td>16</td></tr><tr><td>Republic of Ireland</td><td>1</td><td>7</td><td>12</td><td>36.8%</td><td>5.2%</td><td>28</td><td>0</td><td>0</td><td>0</td><td>1</td><td>851</td><td>606</td><td>71.2%</td><td>1433</td><td>43</td><td>18</td><td>8</td><td>45</td><td>78</td><td>43</td><td>1</td><td>0</td><td>23</td><td>9</td><td>17</td><td>65.4%</td><td>43</td><td>51</td><td>11</td><td>6</td><td>1</td><td>10</td><td>10</td><td>17</td></tr><tr><td>Russia</td><td>5</td><td>9</td><td>31</td><td>22.5%</td><td>12.5%</td><td>59</td><td>2</td><td>0</td><td>0</td><td>1</td><td>1602</td><td>1345</td><td>83.9%</td><td>2278</td><td>40</td><td>40</td><td>21</td><td>65</td><td>74</td><td>58</td><td>0</td><td>0</td><td>8</td><td>3</td><td>10</td><td>77.0%</td><td>34</td><td>43</td><td>4</td><td>6</td><td>0</td><td>7</td><td>7</td><td>16</td></tr><tr><td>Spain</td><td>12</td><td>42</td><td>33</td><td>55.9%</td><td>16.0%</td><td>100</td><td>0</td><td>1</td><td>0</td><td>2</td><td>4317</td><td>3820</td><td>88.4%</td><td>5585</td><td>69</td><td>106</td><td>44</td><td>122</td><td>102</td><td>79</td><td>0</td><td>5</td><td>8</td><td>1</td><td>15</td><td>93.8%</td><td>102</td><td>83</td><td>19</td><td>11</td><td>0</td><td>17</td><td>17</td><td>18</td></tr><tr><td>Sweden</td><td>5</td><td>17</td><td>19</td><td>47.2%</td><td>13.8%</td><td>39</td><td>3</td><td>0</td><td>0</td><td>1</td><td>1192</td><td>965</td><td>80.9%</td><td>1806</td><td>44</td><td>29</td><td>7</td><td>56</td><td>54</td><td>45</td><td>0</td><td>1</td><td>12</td><td>5</td><td>8</td><td>61.6%</td><td>35</td><td>51</td><td>7</td><td>7</td><td>0</td><td>9</td><td>9</td><td>18</td></tr><tr><td>Ukraine</td><td>2</td><td>7</td><td>26</td><td>21.2%</td><td>6.0%</td><td>38</td><td>0</td><td>0</td><td>0</td><td>2</td><td>1276</td><td>1043</td><td>81.7%</td><td>1894</td><td>33</td><td>26</td><td>18</td><td>65</td><td>97</td><td>29</td><td>0</td><td>0</td><td>4</td><td>4</td><td>13</td><td>76.5%</td><td>48</td><td>31</td><td>4</td><td>5</td><td>0</td><td>9</td><td>9</td><td>18</td></tr></tbody></table></div>"
      ]
     },
     "metadata": {
      "application/vnd.databricks.v1+output": {
       "addedWidgets": {},
       "aggData": [],
       "aggError": "",
       "aggOverflow": false,
       "aggSchema": [],
       "aggSeriesLimitReached": false,
       "aggType": "",
       "arguments": {},
       "columnCustomDisplayInfos": {},
       "data": [
        [
         "Croatia",
         4,
         13,
         12,
         "51.9%",
         "16.0%",
         32,
         0,
         0,
         0,
         2,
         1076,
         828,
         "76.9%",
         1706,
         60,
         42,
         14,
         49,
         83,
         56,
         null,
         0,
         10,
         3,
         13,
         "81.3%",
         41,
         62,
         2,
         9,
         0,
         9,
         9,
         16
        ],
        [
         "Czech Republic",
         4,
         13,
         18,
         "41.9%",
         "12.9%",
         39,
         0,
         0,
         0,
         0,
         1565,
         1223,
         "78.1%",
         2358,
         46,
         68,
         21,
         62,
         98,
         37,
         2,
         1,
         10,
         6,
         9,
         "60.1%",
         53,
         73,
         8,
         7,
         0,
         11,
         11,
         19
        ],
        [
         "Denmark",
         4,
         10,
         10,
         "50.0%",
         "20.0%",
         27,
         1,
         0,
         0,
         3,
         1298,
         1082,
         "83.3%",
         1873,
         43,
         32,
         16,
         40,
         61,
         59,
         0,
         1,
         10,
         5,
         10,
         "66.7%",
         25,
         38,
         8,
         4,
         0,
         7,
         7,
         15
        ],
        [
         "England",
         5,
         11,
         18,
         "50.0%",
         "17.2%",
         40,
         0,
         0,
         0,
         3,
         1488,
         1200,
         "80.6%",
         2440,
         58,
         60,
         16,
         86,
         106,
         72,
         1,
         2,
         29,
         3,
         22,
         "88.1%",
         43,
         45,
         6,
         5,
         0,
         11,
         11,
         16
        ],
        [
         "France",
         3,
         22,
         24,
         "37.9%",
         "6.5%",
         65,
         1,
         0,
         0,
         0,
         2066,
         1803,
         "87.2%",
         2909,
         55,
         76,
         28,
         71,
         76,
         58,
         0,
         1,
         7,
         5,
         6,
         "54.6%",
         36,
         51,
         5,
         6,
         0,
         11,
         11,
         19
        ],
        [
         "Germany",
         10,
         32,
         32,
         "47.8%",
         "15.6%",
         80,
         2,
         1,
         0,
         2,
         2774,
         2427,
         "87.4%",
         3761,
         101,
         60,
         35,
         91,
         73,
         69,
         0,
         1,
         11,
         6,
         10,
         "62.6%",
         63,
         49,
         12,
         4,
         0,
         15,
         15,
         17
        ],
        [
         "Greece",
         5,
         8,
         18,
         "30.7%",
         "19.2%",
         32,
         1,
         1,
         1,
         0,
         1187,
         911,
         "76.7%",
         2016,
         52,
         53,
         10,
         65,
         123,
         87,
         0,
         1,
         23,
         7,
         13,
         "65.1%",
         67,
         48,
         12,
         9,
         1,
         12,
         12,
         20
        ],
        [
         "Italy",
         6,
         34,
         45,
         "43.0%",
         "7.5%",
         110,
         2,
         0,
         0,
         2,
         3016,
         2531,
         "83.9%",
         4363,
         75,
         75,
         30,
         98,
         137,
         136,
         1,
         2,
         18,
         7,
         20,
         "74.1%",
         101,
         89,
         16,
         16,
         0,
         18,
         18,
         19
        ],
        [
         "Netherlands",
         2,
         12,
         36,
         "25.0%",
         "4.1%",
         60,
         2,
         0,
         0,
         0,
         1556,
         1381,
         "88.7%",
         2163,
         50,
         49,
         22,
         34,
         41,
         41,
         0,
         0,
         9,
         5,
         12,
         "70.6%",
         35,
         30,
         3,
         5,
         0,
         7,
         7,
         15
        ],
        [
         "Poland",
         2,
         15,
         23,
         "39.4%",
         "5.2%",
         48,
         0,
         0,
         0,
         1,
         1059,
         852,
         "80.4%",
         1724,
         55,
         39,
         14,
         67,
         87,
         62,
         0,
         0,
         8,
         3,
         6,
         "66.7%",
         48,
         56,
         3,
         7,
         1,
         7,
         7,
         17
        ],
        [
         "Portugal",
         6,
         22,
         42,
         "34.3%",
         "9.3%",
         82,
         6,
         0,
         0,
         2,
         1891,
         1461,
         "77.2%",
         2958,
         91,
         64,
         41,
         78,
         92,
         86,
         0,
         2,
         11,
         4,
         10,
         "71.5%",
         73,
         90,
         10,
         12,
         0,
         14,
         14,
         16
        ],
        [
         "Republic of Ireland",
         1,
         7,
         12,
         "36.8%",
         "5.2%",
         28,
         0,
         0,
         0,
         1,
         851,
         606,
         "71.2%",
         1433,
         43,
         18,
         8,
         45,
         78,
         43,
         1,
         0,
         23,
         9,
         17,
         "65.4%",
         43,
         51,
         11,
         6,
         1,
         10,
         10,
         17
        ],
        [
         "Russia",
         5,
         9,
         31,
         "22.5%",
         "12.5%",
         59,
         2,
         0,
         0,
         1,
         1602,
         1345,
         "83.9%",
         2278,
         40,
         40,
         21,
         65,
         74,
         58,
         0,
         0,
         8,
         3,
         10,
         "77.0%",
         34,
         43,
         4,
         6,
         0,
         7,
         7,
         16
        ],
        [
         "Spain",
         12,
         42,
         33,
         "55.9%",
         "16.0%",
         100,
         0,
         1,
         0,
         2,
         4317,
         3820,
         "88.4%",
         5585,
         69,
         106,
         44,
         122,
         102,
         79,
         0,
         5,
         8,
         1,
         15,
         "93.8%",
         102,
         83,
         19,
         11,
         0,
         17,
         17,
         18
        ],
        [
         "Sweden",
         5,
         17,
         19,
         "47.2%",
         "13.8%",
         39,
         3,
         0,
         0,
         1,
         1192,
         965,
         "80.9%",
         1806,
         44,
         29,
         7,
         56,
         54,
         45,
         0,
         1,
         12,
         5,
         8,
         "61.6%",
         35,
         51,
         7,
         7,
         0,
         9,
         9,
         18
        ],
        [
         "Ukraine",
         2,
         7,
         26,
         "21.2%",
         "6.0%",
         38,
         0,
         0,
         0,
         2,
         1276,
         1043,
         "81.7%",
         1894,
         33,
         26,
         18,
         65,
         97,
         29,
         0,
         0,
         4,
         4,
         13,
         "76.5%",
         48,
         31,
         4,
         5,
         0,
         9,
         9,
         18
        ]
       ],
       "datasetInfos": [],
       "dbfsResultPath": null,
       "isJsonSchema": true,
       "metadata": {},
       "overflow": false,
       "plotOptions": {
        "customPlotOptions": {},
        "displayType": "table",
        "pivotAggregation": null,
        "pivotColumns": null,
        "xColumns": null,
        "yColumns": null
       },
       "removedWidgets": [],
       "schema": [
        {
         "metadata": "{}",
         "name": "Team",
         "type": "\"string\""
        },
        {
         "metadata": "{}",
         "name": "Goals",
         "type": "\"integer\""
        },
        {
         "metadata": "{}",
         "name": "Shots on target",
         "type": "\"integer\""
        },
        {
         "metadata": "{}",
         "name": "Shots off target",
         "type": "\"integer\""
        },
        {
         "metadata": "{}",
         "name": "Shooting Accuracy",
         "type": "\"string\""
        },
        {
         "metadata": "{}",
         "name": "% Goals-to-shots",
         "type": "\"string\""
        },
        {
         "metadata": "{}",
         "name": "Total shots (inc. Blocked)",
         "type": "\"integer\""
        },
        {
         "metadata": "{}",
         "name": "Hit Woodwork",
         "type": "\"integer\""
        },
        {
         "metadata": "{}",
         "name": "Penalty goals",
         "type": "\"integer\""
        },
        {
         "metadata": "{}",
         "name": "Penalties not scored",
         "type": "\"integer\""
        },
        {
         "metadata": "{}",
         "name": "Headed goals",
         "type": "\"integer\""
        },
        {
         "metadata": "{}",
         "name": "Passes",
         "type": "\"integer\""
        },
        {
         "metadata": "{}",
         "name": "Passes completed",
         "type": "\"integer\""
        },
        {
         "metadata": "{}",
         "name": "Passing Accuracy",
         "type": "\"string\""
        },
        {
         "metadata": "{}",
         "name": "Touches",
         "type": "\"integer\""
        },
        {
         "metadata": "{}",
         "name": "Crosses",
         "type": "\"integer\""
        },
        {
         "metadata": "{}",
         "name": "Dribbles",
         "type": "\"integer\""
        },
        {
         "metadata": "{}",
         "name": "Corners Taken",
         "type": "\"integer\""
        },
        {
         "metadata": "{}",
         "name": "Tackles",
         "type": "\"integer\""
        },
        {
         "metadata": "{}",
         "name": "Clearances",
         "type": "\"integer\""
        },
        {
         "metadata": "{}",
         "name": "Interceptions",
         "type": "\"integer\""
        },
        {
         "metadata": "{}",
         "name": "Clearances off line",
         "type": "\"integer\""
        },
        {
         "metadata": "{}",
         "name": "Clean Sheets",
         "type": "\"integer\""
        },
        {
         "metadata": "{}",
         "name": "Blocks",
         "type": "\"integer\""
        },
        {
         "metadata": "{}",
         "name": "Goals conceded",
         "type": "\"integer\""
        },
        {
         "metadata": "{}",
         "name": "Saves made",
         "type": "\"integer\""
        },
        {
         "metadata": "{}",
         "name": "Saves-to-shots ratio",
         "type": "\"string\""
        },
        {
         "metadata": "{}",
         "name": "Fouls Won",
         "type": "\"integer\""
        },
        {
         "metadata": "{}",
         "name": "Fouls Conceded",
         "type": "\"integer\""
        },
        {
         "metadata": "{}",
         "name": "Offsides",
         "type": "\"integer\""
        },
        {
         "metadata": "{}",
         "name": "Yellow Cards",
         "type": "\"integer\""
        },
        {
         "metadata": "{}",
         "name": "Red Cards",
         "type": "\"integer\""
        },
        {
         "metadata": "{}",
         "name": "Subs on",
         "type": "\"integer\""
        },
        {
         "metadata": "{}",
         "name": "Subs off",
         "type": "\"integer\""
        },
        {
         "metadata": "{}",
         "name": "Players Used",
         "type": "\"integer\""
        }
       ],
       "type": "table"
      }
     },
     "output_type": "display_data"
    }
   ],
   "source": [
    "team = spark.read.format('csv').option('Inferschema', True).option('Header', True).load('/FileStore/tables/Team_Stats.csv')\n",
    "team.display()"
   ]
  },
  {
   "cell_type": "code",
   "execution_count": 0,
   "metadata": {
    "application/vnd.databricks.v1+cell": {
     "cellMetadata": {
      "byteLimit": 2048000,
      "rowLimit": 10000
     },
     "inputWidgets": {},
     "nuid": "649f46c6-a5dc-4b0b-a1ee-8fc1bcd77370",
     "showTitle": false,
     "tableResultSettingsMap": {},
     "title": ""
    }
   },
   "outputs": [
    {
     "output_type": "display_data",
     "data": {
      "text/html": [
       "<style scoped>\n",
       "  .table-result-container {\n",
       "    max-height: 300px;\n",
       "    overflow: auto;\n",
       "  }\n",
       "  table, th, td {\n",
       "    border: 1px solid black;\n",
       "    border-collapse: collapse;\n",
       "  }\n",
       "  th, td {\n",
       "    padding: 5px;\n",
       "  }\n",
       "  th {\n",
       "    text-align: left;\n",
       "  }\n",
       "</style><div class='table-result-container'><table class='table-result'><thead style='background-color: white'><tr><th>Goals</th></tr></thead><tbody><tr><td>4</td></tr><tr><td>4</td></tr><tr><td>4</td></tr><tr><td>5</td></tr><tr><td>3</td></tr><tr><td>10</td></tr><tr><td>5</td></tr><tr><td>6</td></tr><tr><td>2</td></tr><tr><td>2</td></tr><tr><td>6</td></tr><tr><td>1</td></tr><tr><td>5</td></tr><tr><td>12</td></tr><tr><td>5</td></tr><tr><td>2</td></tr></tbody></table></div>"
      ]
     },
     "metadata": {
      "application/vnd.databricks.v1+output": {
       "addedWidgets": {},
       "aggData": [],
       "aggError": "",
       "aggOverflow": false,
       "aggSchema": [],
       "aggSeriesLimitReached": false,
       "aggType": "",
       "arguments": {},
       "columnCustomDisplayInfos": {},
       "data": [
        [
         4
        ],
        [
         4
        ],
        [
         4
        ],
        [
         5
        ],
        [
         3
        ],
        [
         10
        ],
        [
         5
        ],
        [
         6
        ],
        [
         2
        ],
        [
         2
        ],
        [
         6
        ],
        [
         1
        ],
        [
         5
        ],
        [
         12
        ],
        [
         5
        ],
        [
         2
        ]
       ],
       "datasetInfos": [],
       "dbfsResultPath": null,
       "isJsonSchema": true,
       "metadata": {},
       "overflow": false,
       "plotOptions": {
        "customPlotOptions": {},
        "displayType": "table",
        "pivotAggregation": null,
        "pivotColumns": null,
        "xColumns": null,
        "yColumns": null
       },
       "removedWidgets": [],
       "schema": [
        {
         "metadata": "{}",
         "name": "Goals",
         "type": "\"integer\""
        }
       ],
       "type": "table"
      }
     },
     "output_type": "display_data"
    }
   ],
   "source": [
    "from pyspark.sql.functions import *\n",
    "team.select(col('Goals')).display()"
   ]
  },
  {
   "cell_type": "code",
   "execution_count": 0,
   "metadata": {
    "application/vnd.databricks.v1+cell": {
     "cellMetadata": {
      "byteLimit": 2048000,
      "rowLimit": 10000
     },
     "inputWidgets": {},
     "nuid": "63e830d7-e1e7-465e-9308-58d9fecfdedc",
     "showTitle": false,
     "tableResultSettingsMap": {},
     "title": ""
    }
   },
   "outputs": [
    {
     "output_type": "stream",
     "name": "stdout",
     "output_type": "stream",
     "text": [
      "Out[14]: 16"
     ]
    }
   ],
   "source": [
    "team.count()"
   ]
  },
  {
   "cell_type": "code",
   "execution_count": 0,
   "metadata": {
    "application/vnd.databricks.v1+cell": {
     "cellMetadata": {
      "byteLimit": 2048000,
      "rowLimit": 10000
     },
     "inputWidgets": {},
     "nuid": "d6dd43cf-7108-470c-9e67-855d62b1ac94",
     "showTitle": false,
     "tableResultSettingsMap": {},
     "title": ""
    }
   },
   "outputs": [
    {
     "output_type": "display_data",
     "data": {
      "text/html": [
       "<style scoped>\n",
       "  .table-result-container {\n",
       "    max-height: 300px;\n",
       "    overflow: auto;\n",
       "  }\n",
       "  table, th, td {\n",
       "    border: 1px solid black;\n",
       "    border-collapse: collapse;\n",
       "  }\n",
       "  th, td {\n",
       "    padding: 5px;\n",
       "  }\n",
       "  th {\n",
       "    text-align: left;\n",
       "  }\n",
       "</style><div class='table-result-container'><table class='table-result'><thead style='background-color: white'><tr><th>Team</th><th>Goals</th><th>Shots on target</th><th>Shots off target</th><th>Shooting Accuracy</th><th>% Goals-to-shots</th><th>Total shots (inc. Blocked)</th><th>Hit Woodwork</th><th>Penalty goals</th><th>Penalties not scored</th><th>Headed goals</th><th>Passes</th><th>Passes completed</th><th>Passing Accuracy</th><th>Touches</th><th>Crosses</th><th>Dribbles</th><th>Corners Taken</th><th>Tackles</th><th>Clearances</th><th>Interceptions</th><th>Clearances off line</th><th>Clean Sheets</th><th>Blocks</th><th>Goals conceded</th><th>Saves made</th><th>Saves-to-shots ratio</th><th>Fouls Won</th><th>Fouls Conceded</th><th>Offsides</th><th>Yellow Cards</th><th>Red Cards</th><th>Subs on</th><th>Subs off</th><th>Players Used</th></tr></thead><tbody><tr><td>Italy</td><td>6</td><td>34</td><td>45</td><td>43.0%</td><td>7.5%</td><td>110</td><td>2</td><td>0</td><td>0</td><td>2</td><td>3016</td><td>2531</td><td>83.9%</td><td>4363</td><td>75</td><td>75</td><td>30</td><td>98</td><td>137</td><td>136</td><td>1</td><td>2</td><td>18</td><td>7</td><td>20</td><td>74.1%</td><td>101</td><td>89</td><td>16</td><td>16</td><td>0</td><td>18</td><td>18</td><td>19</td></tr><tr><td>Portugal</td><td>6</td><td>22</td><td>42</td><td>34.3%</td><td>9.3%</td><td>82</td><td>6</td><td>0</td><td>0</td><td>2</td><td>1891</td><td>1461</td><td>77.2%</td><td>2958</td><td>91</td><td>64</td><td>41</td><td>78</td><td>92</td><td>86</td><td>0</td><td>2</td><td>11</td><td>4</td><td>10</td><td>71.5%</td><td>73</td><td>90</td><td>10</td><td>12</td><td>0</td><td>14</td><td>14</td><td>16</td></tr><tr><td>Spain</td><td>12</td><td>42</td><td>33</td><td>55.9%</td><td>16.0%</td><td>100</td><td>0</td><td>1</td><td>0</td><td>2</td><td>4317</td><td>3820</td><td>88.4%</td><td>5585</td><td>69</td><td>106</td><td>44</td><td>122</td><td>102</td><td>79</td><td>0</td><td>5</td><td>8</td><td>1</td><td>15</td><td>93.8%</td><td>102</td><td>83</td><td>19</td><td>11</td><td>0</td><td>17</td><td>17</td><td>18</td></tr><tr><td>Croatia</td><td>4</td><td>13</td><td>12</td><td>51.9%</td><td>16.0%</td><td>32</td><td>0</td><td>0</td><td>0</td><td>2</td><td>1076</td><td>828</td><td>76.9%</td><td>1706</td><td>60</td><td>42</td><td>14</td><td>49</td><td>83</td><td>56</td><td>null</td><td>0</td><td>10</td><td>3</td><td>13</td><td>81.3%</td><td>41</td><td>62</td><td>2</td><td>9</td><td>0</td><td>9</td><td>9</td><td>16</td></tr><tr><td>Czech Republic</td><td>4</td><td>13</td><td>18</td><td>41.9%</td><td>12.9%</td><td>39</td><td>0</td><td>0</td><td>0</td><td>0</td><td>1565</td><td>1223</td><td>78.1%</td><td>2358</td><td>46</td><td>68</td><td>21</td><td>62</td><td>98</td><td>37</td><td>2</td><td>1</td><td>10</td><td>6</td><td>9</td><td>60.1%</td><td>53</td><td>73</td><td>8</td><td>7</td><td>0</td><td>11</td><td>11</td><td>19</td></tr><tr><td>Sweden</td><td>5</td><td>17</td><td>19</td><td>47.2%</td><td>13.8%</td><td>39</td><td>3</td><td>0</td><td>0</td><td>1</td><td>1192</td><td>965</td><td>80.9%</td><td>1806</td><td>44</td><td>29</td><td>7</td><td>56</td><td>54</td><td>45</td><td>0</td><td>1</td><td>12</td><td>5</td><td>8</td><td>61.6%</td><td>35</td><td>51</td><td>7</td><td>7</td><td>0</td><td>9</td><td>9</td><td>18</td></tr><tr><td>France</td><td>3</td><td>22</td><td>24</td><td>37.9%</td><td>6.5%</td><td>65</td><td>1</td><td>0</td><td>0</td><td>0</td><td>2066</td><td>1803</td><td>87.2%</td><td>2909</td><td>55</td><td>76</td><td>28</td><td>71</td><td>76</td><td>58</td><td>0</td><td>1</td><td>7</td><td>5</td><td>6</td><td>54.6%</td><td>36</td><td>51</td><td>5</td><td>6</td><td>0</td><td>11</td><td>11</td><td>19</td></tr><tr><td>Russia</td><td>5</td><td>9</td><td>31</td><td>22.5%</td><td>12.5%</td><td>59</td><td>2</td><td>0</td><td>0</td><td>1</td><td>1602</td><td>1345</td><td>83.9%</td><td>2278</td><td>40</td><td>40</td><td>21</td><td>65</td><td>74</td><td>58</td><td>0</td><td>0</td><td>8</td><td>3</td><td>10</td><td>77.0%</td><td>34</td><td>43</td><td>4</td><td>6</td><td>0</td><td>7</td><td>7</td><td>16</td></tr><tr><td>England</td><td>5</td><td>11</td><td>18</td><td>50.0%</td><td>17.2%</td><td>40</td><td>0</td><td>0</td><td>0</td><td>3</td><td>1488</td><td>1200</td><td>80.6%</td><td>2440</td><td>58</td><td>60</td><td>16</td><td>86</td><td>106</td><td>72</td><td>1</td><td>2</td><td>29</td><td>3</td><td>22</td><td>88.1%</td><td>43</td><td>45</td><td>6</td><td>5</td><td>0</td><td>11</td><td>11</td><td>16</td></tr><tr><td>Netherlands</td><td>2</td><td>12</td><td>36</td><td>25.0%</td><td>4.1%</td><td>60</td><td>2</td><td>0</td><td>0</td><td>0</td><td>1556</td><td>1381</td><td>88.7%</td><td>2163</td><td>50</td><td>49</td><td>22</td><td>34</td><td>41</td><td>41</td><td>0</td><td>0</td><td>9</td><td>5</td><td>12</td><td>70.6%</td><td>35</td><td>30</td><td>3</td><td>5</td><td>0</td><td>7</td><td>7</td><td>15</td></tr><tr><td>Ukraine</td><td>2</td><td>7</td><td>26</td><td>21.2%</td><td>6.0%</td><td>38</td><td>0</td><td>0</td><td>0</td><td>2</td><td>1276</td><td>1043</td><td>81.7%</td><td>1894</td><td>33</td><td>26</td><td>18</td><td>65</td><td>97</td><td>29</td><td>0</td><td>0</td><td>4</td><td>4</td><td>13</td><td>76.5%</td><td>48</td><td>31</td><td>4</td><td>5</td><td>0</td><td>9</td><td>9</td><td>18</td></tr><tr><td>Denmark</td><td>4</td><td>10</td><td>10</td><td>50.0%</td><td>20.0%</td><td>27</td><td>1</td><td>0</td><td>0</td><td>3</td><td>1298</td><td>1082</td><td>83.3%</td><td>1873</td><td>43</td><td>32</td><td>16</td><td>40</td><td>61</td><td>59</td><td>0</td><td>1</td><td>10</td><td>5</td><td>10</td><td>66.7%</td><td>25</td><td>38</td><td>8</td><td>4</td><td>0</td><td>7</td><td>7</td><td>15</td></tr><tr><td>Germany</td><td>10</td><td>32</td><td>32</td><td>47.8%</td><td>15.6%</td><td>80</td><td>2</td><td>1</td><td>0</td><td>2</td><td>2774</td><td>2427</td><td>87.4%</td><td>3761</td><td>101</td><td>60</td><td>35</td><td>91</td><td>73</td><td>69</td><td>0</td><td>1</td><td>11</td><td>6</td><td>10</td><td>62.6%</td><td>63</td><td>49</td><td>12</td><td>4</td><td>0</td><td>15</td><td>15</td><td>17</td></tr><tr><td>Greece</td><td>5</td><td>8</td><td>18</td><td>30.7%</td><td>19.2%</td><td>32</td><td>1</td><td>1</td><td>1</td><td>0</td><td>1187</td><td>911</td><td>76.7%</td><td>2016</td><td>52</td><td>53</td><td>10</td><td>65</td><td>123</td><td>87</td><td>0</td><td>1</td><td>23</td><td>7</td><td>13</td><td>65.1%</td><td>67</td><td>48</td><td>12</td><td>9</td><td>1</td><td>12</td><td>12</td><td>20</td></tr><tr><td>Poland</td><td>2</td><td>15</td><td>23</td><td>39.4%</td><td>5.2%</td><td>48</td><td>0</td><td>0</td><td>0</td><td>1</td><td>1059</td><td>852</td><td>80.4%</td><td>1724</td><td>55</td><td>39</td><td>14</td><td>67</td><td>87</td><td>62</td><td>0</td><td>0</td><td>8</td><td>3</td><td>6</td><td>66.7%</td><td>48</td><td>56</td><td>3</td><td>7</td><td>1</td><td>7</td><td>7</td><td>17</td></tr><tr><td>Republic of Ireland</td><td>1</td><td>7</td><td>12</td><td>36.8%</td><td>5.2%</td><td>28</td><td>0</td><td>0</td><td>0</td><td>1</td><td>851</td><td>606</td><td>71.2%</td><td>1433</td><td>43</td><td>18</td><td>8</td><td>45</td><td>78</td><td>43</td><td>1</td><td>0</td><td>23</td><td>9</td><td>17</td><td>65.4%</td><td>43</td><td>51</td><td>11</td><td>6</td><td>1</td><td>10</td><td>10</td><td>17</td></tr></tbody></table></div>"
      ]
     },
     "metadata": {
      "application/vnd.databricks.v1+output": {
       "addedWidgets": {},
       "aggData": [],
       "aggError": "",
       "aggOverflow": false,
       "aggSchema": [],
       "aggSeriesLimitReached": false,
       "aggType": "",
       "arguments": {},
       "columnCustomDisplayInfos": {},
       "data": [
        [
         "Italy",
         6,
         34,
         45,
         "43.0%",
         "7.5%",
         110,
         2,
         0,
         0,
         2,
         3016,
         2531,
         "83.9%",
         4363,
         75,
         75,
         30,
         98,
         137,
         136,
         1,
         2,
         18,
         7,
         20,
         "74.1%",
         101,
         89,
         16,
         16,
         0,
         18,
         18,
         19
        ],
        [
         "Portugal",
         6,
         22,
         42,
         "34.3%",
         "9.3%",
         82,
         6,
         0,
         0,
         2,
         1891,
         1461,
         "77.2%",
         2958,
         91,
         64,
         41,
         78,
         92,
         86,
         0,
         2,
         11,
         4,
         10,
         "71.5%",
         73,
         90,
         10,
         12,
         0,
         14,
         14,
         16
        ],
        [
         "Spain",
         12,
         42,
         33,
         "55.9%",
         "16.0%",
         100,
         0,
         1,
         0,
         2,
         4317,
         3820,
         "88.4%",
         5585,
         69,
         106,
         44,
         122,
         102,
         79,
         0,
         5,
         8,
         1,
         15,
         "93.8%",
         102,
         83,
         19,
         11,
         0,
         17,
         17,
         18
        ],
        [
         "Croatia",
         4,
         13,
         12,
         "51.9%",
         "16.0%",
         32,
         0,
         0,
         0,
         2,
         1076,
         828,
         "76.9%",
         1706,
         60,
         42,
         14,
         49,
         83,
         56,
         null,
         0,
         10,
         3,
         13,
         "81.3%",
         41,
         62,
         2,
         9,
         0,
         9,
         9,
         16
        ],
        [
         "Czech Republic",
         4,
         13,
         18,
         "41.9%",
         "12.9%",
         39,
         0,
         0,
         0,
         0,
         1565,
         1223,
         "78.1%",
         2358,
         46,
         68,
         21,
         62,
         98,
         37,
         2,
         1,
         10,
         6,
         9,
         "60.1%",
         53,
         73,
         8,
         7,
         0,
         11,
         11,
         19
        ],
        [
         "Sweden",
         5,
         17,
         19,
         "47.2%",
         "13.8%",
         39,
         3,
         0,
         0,
         1,
         1192,
         965,
         "80.9%",
         1806,
         44,
         29,
         7,
         56,
         54,
         45,
         0,
         1,
         12,
         5,
         8,
         "61.6%",
         35,
         51,
         7,
         7,
         0,
         9,
         9,
         18
        ],
        [
         "France",
         3,
         22,
         24,
         "37.9%",
         "6.5%",
         65,
         1,
         0,
         0,
         0,
         2066,
         1803,
         "87.2%",
         2909,
         55,
         76,
         28,
         71,
         76,
         58,
         0,
         1,
         7,
         5,
         6,
         "54.6%",
         36,
         51,
         5,
         6,
         0,
         11,
         11,
         19
        ],
        [
         "Russia",
         5,
         9,
         31,
         "22.5%",
         "12.5%",
         59,
         2,
         0,
         0,
         1,
         1602,
         1345,
         "83.9%",
         2278,
         40,
         40,
         21,
         65,
         74,
         58,
         0,
         0,
         8,
         3,
         10,
         "77.0%",
         34,
         43,
         4,
         6,
         0,
         7,
         7,
         16
        ],
        [
         "England",
         5,
         11,
         18,
         "50.0%",
         "17.2%",
         40,
         0,
         0,
         0,
         3,
         1488,
         1200,
         "80.6%",
         2440,
         58,
         60,
         16,
         86,
         106,
         72,
         1,
         2,
         29,
         3,
         22,
         "88.1%",
         43,
         45,
         6,
         5,
         0,
         11,
         11,
         16
        ],
        [
         "Netherlands",
         2,
         12,
         36,
         "25.0%",
         "4.1%",
         60,
         2,
         0,
         0,
         0,
         1556,
         1381,
         "88.7%",
         2163,
         50,
         49,
         22,
         34,
         41,
         41,
         0,
         0,
         9,
         5,
         12,
         "70.6%",
         35,
         30,
         3,
         5,
         0,
         7,
         7,
         15
        ],
        [
         "Ukraine",
         2,
         7,
         26,
         "21.2%",
         "6.0%",
         38,
         0,
         0,
         0,
         2,
         1276,
         1043,
         "81.7%",
         1894,
         33,
         26,
         18,
         65,
         97,
         29,
         0,
         0,
         4,
         4,
         13,
         "76.5%",
         48,
         31,
         4,
         5,
         0,
         9,
         9,
         18
        ],
        [
         "Denmark",
         4,
         10,
         10,
         "50.0%",
         "20.0%",
         27,
         1,
         0,
         0,
         3,
         1298,
         1082,
         "83.3%",
         1873,
         43,
         32,
         16,
         40,
         61,
         59,
         0,
         1,
         10,
         5,
         10,
         "66.7%",
         25,
         38,
         8,
         4,
         0,
         7,
         7,
         15
        ],
        [
         "Germany",
         10,
         32,
         32,
         "47.8%",
         "15.6%",
         80,
         2,
         1,
         0,
         2,
         2774,
         2427,
         "87.4%",
         3761,
         101,
         60,
         35,
         91,
         73,
         69,
         0,
         1,
         11,
         6,
         10,
         "62.6%",
         63,
         49,
         12,
         4,
         0,
         15,
         15,
         17
        ],
        [
         "Greece",
         5,
         8,
         18,
         "30.7%",
         "19.2%",
         32,
         1,
         1,
         1,
         0,
         1187,
         911,
         "76.7%",
         2016,
         52,
         53,
         10,
         65,
         123,
         87,
         0,
         1,
         23,
         7,
         13,
         "65.1%",
         67,
         48,
         12,
         9,
         1,
         12,
         12,
         20
        ],
        [
         "Poland",
         2,
         15,
         23,
         "39.4%",
         "5.2%",
         48,
         0,
         0,
         0,
         1,
         1059,
         852,
         "80.4%",
         1724,
         55,
         39,
         14,
         67,
         87,
         62,
         0,
         0,
         8,
         3,
         6,
         "66.7%",
         48,
         56,
         3,
         7,
         1,
         7,
         7,
         17
        ],
        [
         "Republic of Ireland",
         1,
         7,
         12,
         "36.8%",
         "5.2%",
         28,
         0,
         0,
         0,
         1,
         851,
         606,
         "71.2%",
         1433,
         43,
         18,
         8,
         45,
         78,
         43,
         1,
         0,
         23,
         9,
         17,
         "65.4%",
         43,
         51,
         11,
         6,
         1,
         10,
         10,
         17
        ]
       ],
       "datasetInfos": [],
       "dbfsResultPath": null,
       "isJsonSchema": true,
       "metadata": {},
       "overflow": false,
       "plotOptions": {
        "customPlotOptions": {},
        "displayType": "table",
        "pivotAggregation": null,
        "pivotColumns": null,
        "xColumns": null,
        "yColumns": null
       },
       "removedWidgets": [],
       "schema": [
        {
         "metadata": "{}",
         "name": "Team",
         "type": "\"string\""
        },
        {
         "metadata": "{}",
         "name": "Goals",
         "type": "\"integer\""
        },
        {
         "metadata": "{}",
         "name": "Shots on target",
         "type": "\"integer\""
        },
        {
         "metadata": "{}",
         "name": "Shots off target",
         "type": "\"integer\""
        },
        {
         "metadata": "{}",
         "name": "Shooting Accuracy",
         "type": "\"string\""
        },
        {
         "metadata": "{}",
         "name": "% Goals-to-shots",
         "type": "\"string\""
        },
        {
         "metadata": "{}",
         "name": "Total shots (inc. Blocked)",
         "type": "\"integer\""
        },
        {
         "metadata": "{}",
         "name": "Hit Woodwork",
         "type": "\"integer\""
        },
        {
         "metadata": "{}",
         "name": "Penalty goals",
         "type": "\"integer\""
        },
        {
         "metadata": "{}",
         "name": "Penalties not scored",
         "type": "\"integer\""
        },
        {
         "metadata": "{}",
         "name": "Headed goals",
         "type": "\"integer\""
        },
        {
         "metadata": "{}",
         "name": "Passes",
         "type": "\"integer\""
        },
        {
         "metadata": "{}",
         "name": "Passes completed",
         "type": "\"integer\""
        },
        {
         "metadata": "{}",
         "name": "Passing Accuracy",
         "type": "\"string\""
        },
        {
         "metadata": "{}",
         "name": "Touches",
         "type": "\"integer\""
        },
        {
         "metadata": "{}",
         "name": "Crosses",
         "type": "\"integer\""
        },
        {
         "metadata": "{}",
         "name": "Dribbles",
         "type": "\"integer\""
        },
        {
         "metadata": "{}",
         "name": "Corners Taken",
         "type": "\"integer\""
        },
        {
         "metadata": "{}",
         "name": "Tackles",
         "type": "\"integer\""
        },
        {
         "metadata": "{}",
         "name": "Clearances",
         "type": "\"integer\""
        },
        {
         "metadata": "{}",
         "name": "Interceptions",
         "type": "\"integer\""
        },
        {
         "metadata": "{}",
         "name": "Clearances off line",
         "type": "\"integer\""
        },
        {
         "metadata": "{}",
         "name": "Clean Sheets",
         "type": "\"integer\""
        },
        {
         "metadata": "{}",
         "name": "Blocks",
         "type": "\"integer\""
        },
        {
         "metadata": "{}",
         "name": "Goals conceded",
         "type": "\"integer\""
        },
        {
         "metadata": "{}",
         "name": "Saves made",
         "type": "\"integer\""
        },
        {
         "metadata": "{}",
         "name": "Saves-to-shots ratio",
         "type": "\"string\""
        },
        {
         "metadata": "{}",
         "name": "Fouls Won",
         "type": "\"integer\""
        },
        {
         "metadata": "{}",
         "name": "Fouls Conceded",
         "type": "\"integer\""
        },
        {
         "metadata": "{}",
         "name": "Offsides",
         "type": "\"integer\""
        },
        {
         "metadata": "{}",
         "name": "Yellow Cards",
         "type": "\"integer\""
        },
        {
         "metadata": "{}",
         "name": "Red Cards",
         "type": "\"integer\""
        },
        {
         "metadata": "{}",
         "name": "Subs on",
         "type": "\"integer\""
        },
        {
         "metadata": "{}",
         "name": "Subs off",
         "type": "\"integer\""
        },
        {
         "metadata": "{}",
         "name": "Players Used",
         "type": "\"integer\""
        }
       ],
       "type": "table"
      }
     },
     "output_type": "display_data"
    }
   ],
   "source": [
    "#  Sort the teams by Red Cards, then to Yellow Cards\n",
    "team.orderBy([\"Red Cards\", \"Yellow Cards\"], ascending=[True, False]).display()"
   ]
  },
  {
   "cell_type": "code",
   "execution_count": 0,
   "metadata": {
    "application/vnd.databricks.v1+cell": {
     "cellMetadata": {
      "byteLimit": 2048000,
      "rowLimit": 10000
     },
     "inputWidgets": {},
     "nuid": "aa6045ae-8631-44a4-88f7-df61e1dcaac1",
     "showTitle": false,
     "tableResultSettingsMap": {},
     "title": ""
    }
   },
   "outputs": [
    {
     "output_type": "display_data",
     "data": {
      "text/html": [
       "<style scoped>\n",
       "  .table-result-container {\n",
       "    max-height: 300px;\n",
       "    overflow: auto;\n",
       "  }\n",
       "  table, th, td {\n",
       "    border: 1px solid black;\n",
       "    border-collapse: collapse;\n",
       "  }\n",
       "  th, td {\n",
       "    padding: 5px;\n",
       "  }\n",
       "  th {\n",
       "    text-align: left;\n",
       "  }\n",
       "</style><div class='table-result-container'><table class='table-result'><thead style='background-color: white'><tr><th>Clean Sheets</th><th>count</th></tr></thead><tbody><tr><td>1</td><td>6</td></tr><tr><td>5</td><td>1</td></tr><tr><td>2</td><td>3</td></tr><tr><td>0</td><td>6</td></tr></tbody></table></div>"
      ]
     },
     "metadata": {
      "application/vnd.databricks.v1+output": {
       "addedWidgets": {},
       "aggData": [],
       "aggError": "",
       "aggOverflow": false,
       "aggSchema": [],
       "aggSeriesLimitReached": false,
       "aggType": "",
       "arguments": {},
       "columnCustomDisplayInfos": {},
       "data": [
        [
         1,
         6
        ],
        [
         5,
         1
        ],
        [
         2,
         3
        ],
        [
         0,
         6
        ]
       ],
       "datasetInfos": [],
       "dbfsResultPath": null,
       "isJsonSchema": true,
       "metadata": {},
       "overflow": false,
       "plotOptions": {
        "customPlotOptions": {},
        "displayType": "table",
        "pivotAggregation": null,
        "pivotColumns": null,
        "xColumns": null,
        "yColumns": null
       },
       "removedWidgets": [],
       "schema": [
        {
         "metadata": "{}",
         "name": "Clean Sheets",
         "type": "\"integer\""
        },
        {
         "metadata": "{}",
         "name": "count",
         "type": "\"long\""
        }
       ],
       "type": "table"
      }
     },
     "output_type": "display_data"
    },
    {
     "output_type": "display_data",
     "data": {
      "text/html": [
       "<style scoped>\n",
       "  .table-result-container {\n",
       "    max-height: 300px;\n",
       "    overflow: auto;\n",
       "  }\n",
       "  table, th, td {\n",
       "    border: 1px solid black;\n",
       "    border-collapse: collapse;\n",
       "  }\n",
       "  th, td {\n",
       "    padding: 5px;\n",
       "  }\n",
       "  th {\n",
       "    text-align: left;\n",
       "  }\n",
       "</style><div class='table-result-container'><table class='table-result'><thead style='background-color: white'><tr><th>Clean Sheets</th><th>New</th></tr></thead><tbody><tr><td>1</td><td>6</td></tr><tr><td>5</td><td>5</td></tr><tr><td>2</td><td>6</td></tr><tr><td>0</td><td>0</td></tr></tbody></table></div>"
      ]
     },
     "metadata": {
      "application/vnd.databricks.v1+output": {
       "addedWidgets": {},
       "aggData": [],
       "aggError": "",
       "aggOverflow": false,
       "aggSchema": [],
       "aggSeriesLimitReached": false,
       "aggType": "",
       "arguments": {},
       "columnCustomDisplayInfos": {},
       "data": [
        [
         1,
         6
        ],
        [
         5,
         5
        ],
        [
         2,
         6
        ],
        [
         0,
         0
        ]
       ],
       "datasetInfos": [],
       "dbfsResultPath": null,
       "isJsonSchema": true,
       "metadata": {},
       "overflow": false,
       "plotOptions": {
        "customPlotOptions": {},
        "displayType": "table",
        "pivotAggregation": null,
        "pivotColumns": null,
        "xColumns": null,
        "yColumns": null
       },
       "removedWidgets": [],
       "schema": [
        {
         "metadata": "{}",
         "name": "Clean Sheets",
         "type": "\"integer\""
        },
        {
         "metadata": "{}",
         "name": "New",
         "type": "\"long\""
        }
       ],
       "type": "table"
      }
     },
     "output_type": "display_data"
    }
   ],
   "source": [
    "team.groupBy('Clean Sheets').count().display()\n",
    "team.groupBy('Clean Sheets').agg(sum('Clean Sheets').alias('New')).display()"
   ]
  },
  {
   "cell_type": "code",
   "execution_count": 0,
   "metadata": {
    "application/vnd.databricks.v1+cell": {
     "cellMetadata": {
      "byteLimit": 2048000,
      "rowLimit": 10000
     },
     "inputWidgets": {},
     "nuid": "81b72096-0614-4389-8382-f9c133f0469f",
     "showTitle": false,
     "tableResultSettingsMap": {},
     "title": ""
    }
   },
   "outputs": [
    {
     "output_type": "display_data",
     "data": {
      "text/html": [
       "<style scoped>\n",
       "  .table-result-container {\n",
       "    max-height: 300px;\n",
       "    overflow: auto;\n",
       "  }\n",
       "  table, th, td {\n",
       "    border: 1px solid black;\n",
       "    border-collapse: collapse;\n",
       "  }\n",
       "  th, td {\n",
       "    padding: 5px;\n",
       "  }\n",
       "  th {\n",
       "    text-align: left;\n",
       "  }\n",
       "</style><div class='table-result-container'><table class='table-result'><thead style='background-color: white'><tr><th>Team</th><th>Goals</th><th>Shots on target</th><th>Shots off target</th><th>Shooting Accuracy</th><th>% Goals-to-shots</th><th>Total shots (inc. Blocked)</th><th>Hit Woodwork</th><th>Penalty goals</th><th>Penalties not scored</th><th>Headed goals</th><th>Passes</th><th>Passes completed</th><th>Passing Accuracy</th><th>Touches</th><th>Crosses</th><th>Dribbles</th><th>Corners Taken</th><th>Tackles</th><th>Clearances</th><th>Interceptions</th><th>Clearances off line</th><th>Clean Sheets</th><th>Blocks</th><th>Goals conceded</th><th>Saves made</th><th>Saves-to-shots ratio</th><th>Fouls Won</th><th>Fouls Conceded</th><th>Offsides</th><th>Yellow Cards</th><th>Red Cards</th><th>Subs on</th><th>Subs off</th><th>Players Used</th></tr></thead><tbody><tr><td>Germany</td><td>10</td><td>32</td><td>32</td><td>47.8%</td><td>15.6%</td><td>80</td><td>2</td><td>1</td><td>0</td><td>2</td><td>2774</td><td>2427</td><td>87.4%</td><td>3761</td><td>101</td><td>60</td><td>35</td><td>91</td><td>73</td><td>69</td><td>0</td><td>1</td><td>11</td><td>6</td><td>10</td><td>62.6%</td><td>63</td><td>49</td><td>12</td><td>4</td><td>0</td><td>15</td><td>15</td><td>17</td></tr><tr><td>Spain</td><td>12</td><td>42</td><td>33</td><td>55.9%</td><td>16.0%</td><td>100</td><td>0</td><td>1</td><td>0</td><td>2</td><td>4317</td><td>3820</td><td>88.4%</td><td>5585</td><td>69</td><td>106</td><td>44</td><td>122</td><td>102</td><td>79</td><td>0</td><td>5</td><td>8</td><td>1</td><td>15</td><td>93.8%</td><td>102</td><td>83</td><td>19</td><td>11</td><td>0</td><td>17</td><td>17</td><td>18</td></tr></tbody></table></div>"
      ]
     },
     "metadata": {
      "application/vnd.databricks.v1+output": {
       "addedWidgets": {},
       "aggData": [],
       "aggError": "",
       "aggOverflow": false,
       "aggSchema": [],
       "aggSeriesLimitReached": false,
       "aggType": "",
       "arguments": {},
       "columnCustomDisplayInfos": {},
       "data": [
        [
         "Germany",
         10,
         32,
         32,
         "47.8%",
         "15.6%",
         80,
         2,
         1,
         0,
         2,
         2774,
         2427,
         "87.4%",
         3761,
         101,
         60,
         35,
         91,
         73,
         69,
         0,
         1,
         11,
         6,
         10,
         "62.6%",
         63,
         49,
         12,
         4,
         0,
         15,
         15,
         17
        ],
        [
         "Spain",
         12,
         42,
         33,
         "55.9%",
         "16.0%",
         100,
         0,
         1,
         0,
         2,
         4317,
         3820,
         "88.4%",
         5585,
         69,
         106,
         44,
         122,
         102,
         79,
         0,
         5,
         8,
         1,
         15,
         "93.8%",
         102,
         83,
         19,
         11,
         0,
         17,
         17,
         18
        ]
       ],
       "datasetInfos": [],
       "dbfsResultPath": null,
       "isJsonSchema": true,
       "metadata": {},
       "overflow": false,
       "plotOptions": {
        "customPlotOptions": {},
        "displayType": "table",
        "pivotAggregation": null,
        "pivotColumns": null,
        "xColumns": null,
        "yColumns": null
       },
       "removedWidgets": [],
       "schema": [
        {
         "metadata": "{}",
         "name": "Team",
         "type": "\"string\""
        },
        {
         "metadata": "{}",
         "name": "Goals",
         "type": "\"integer\""
        },
        {
         "metadata": "{}",
         "name": "Shots on target",
         "type": "\"integer\""
        },
        {
         "metadata": "{}",
         "name": "Shots off target",
         "type": "\"integer\""
        },
        {
         "metadata": "{}",
         "name": "Shooting Accuracy",
         "type": "\"string\""
        },
        {
         "metadata": "{}",
         "name": "% Goals-to-shots",
         "type": "\"string\""
        },
        {
         "metadata": "{}",
         "name": "Total shots (inc. Blocked)",
         "type": "\"integer\""
        },
        {
         "metadata": "{}",
         "name": "Hit Woodwork",
         "type": "\"integer\""
        },
        {
         "metadata": "{}",
         "name": "Penalty goals",
         "type": "\"integer\""
        },
        {
         "metadata": "{}",
         "name": "Penalties not scored",
         "type": "\"integer\""
        },
        {
         "metadata": "{}",
         "name": "Headed goals",
         "type": "\"integer\""
        },
        {
         "metadata": "{}",
         "name": "Passes",
         "type": "\"integer\""
        },
        {
         "metadata": "{}",
         "name": "Passes completed",
         "type": "\"integer\""
        },
        {
         "metadata": "{}",
         "name": "Passing Accuracy",
         "type": "\"string\""
        },
        {
         "metadata": "{}",
         "name": "Touches",
         "type": "\"integer\""
        },
        {
         "metadata": "{}",
         "name": "Crosses",
         "type": "\"integer\""
        },
        {
         "metadata": "{}",
         "name": "Dribbles",
         "type": "\"integer\""
        },
        {
         "metadata": "{}",
         "name": "Corners Taken",
         "type": "\"integer\""
        },
        {
         "metadata": "{}",
         "name": "Tackles",
         "type": "\"integer\""
        },
        {
         "metadata": "{}",
         "name": "Clearances",
         "type": "\"integer\""
        },
        {
         "metadata": "{}",
         "name": "Interceptions",
         "type": "\"integer\""
        },
        {
         "metadata": "{}",
         "name": "Clearances off line",
         "type": "\"integer\""
        },
        {
         "metadata": "{}",
         "name": "Clean Sheets",
         "type": "\"integer\""
        },
        {
         "metadata": "{}",
         "name": "Blocks",
         "type": "\"integer\""
        },
        {
         "metadata": "{}",
         "name": "Goals conceded",
         "type": "\"integer\""
        },
        {
         "metadata": "{}",
         "name": "Saves made",
         "type": "\"integer\""
        },
        {
         "metadata": "{}",
         "name": "Saves-to-shots ratio",
         "type": "\"string\""
        },
        {
         "metadata": "{}",
         "name": "Fouls Won",
         "type": "\"integer\""
        },
        {
         "metadata": "{}",
         "name": "Fouls Conceded",
         "type": "\"integer\""
        },
        {
         "metadata": "{}",
         "name": "Offsides",
         "type": "\"integer\""
        },
        {
         "metadata": "{}",
         "name": "Yellow Cards",
         "type": "\"integer\""
        },
        {
         "metadata": "{}",
         "name": "Red Cards",
         "type": "\"integer\""
        },
        {
         "metadata": "{}",
         "name": "Subs on",
         "type": "\"integer\""
        },
        {
         "metadata": "{}",
         "name": "Subs off",
         "type": "\"integer\""
        },
        {
         "metadata": "{}",
         "name": "Players Used",
         "type": "\"integer\""
        }
       ],
       "type": "table"
      }
     },
     "output_type": "display_data"
    },
    {
     "output_type": "display_data",
     "data": {
      "text/html": [
       "<style scoped>\n",
       "  .table-result-container {\n",
       "    max-height: 300px;\n",
       "    overflow: auto;\n",
       "  }\n",
       "  table, th, td {\n",
       "    border: 1px solid black;\n",
       "    border-collapse: collapse;\n",
       "  }\n",
       "  th, td {\n",
       "    padding: 5px;\n",
       "  }\n",
       "  th {\n",
       "    text-align: left;\n",
       "  }\n",
       "</style><div class='table-result-container'><table class='table-result'><thead style='background-color: white'><tr><th>Team</th><th>Goals</th><th>Shots on target</th><th>Shots off target</th><th>Shooting Accuracy</th><th>% Goals-to-shots</th><th>Total shots (inc. Blocked)</th><th>Hit Woodwork</th><th>Penalty goals</th><th>Penalties not scored</th><th>Headed goals</th><th>Passes</th><th>Passes completed</th><th>Passing Accuracy</th><th>Touches</th><th>Crosses</th><th>Dribbles</th><th>Corners Taken</th><th>Tackles</th><th>Clearances</th><th>Interceptions</th><th>Clearances off line</th><th>Clean Sheets</th><th>Blocks</th><th>Goals conceded</th><th>Saves made</th><th>Saves-to-shots ratio</th><th>Fouls Won</th><th>Fouls Conceded</th><th>Offsides</th><th>Yellow Cards</th><th>Red Cards</th><th>Subs on</th><th>Subs off</th><th>Players Used</th><th>Goal rate</th></tr></thead><tbody><tr><td>Croatia</td><td>4</td><td>13</td><td>12</td><td>51.9%</td><td>16.0%</td><td>32</td><td>0</td><td>0</td><td>0</td><td>2</td><td>1076</td><td>828</td><td>76.9%</td><td>1706</td><td>60</td><td>42</td><td>14</td><td>49</td><td>83</td><td>56</td><td>null</td><td>0</td><td>10</td><td>3</td><td>13</td><td>81.3%</td><td>41</td><td>62</td><td>2</td><td>9</td><td>0</td><td>9</td><td>9</td><td>16</td><td>Low</td></tr><tr><td>Czech Republic</td><td>4</td><td>13</td><td>18</td><td>41.9%</td><td>12.9%</td><td>39</td><td>0</td><td>0</td><td>0</td><td>0</td><td>1565</td><td>1223</td><td>78.1%</td><td>2358</td><td>46</td><td>68</td><td>21</td><td>62</td><td>98</td><td>37</td><td>2</td><td>1</td><td>10</td><td>6</td><td>9</td><td>60.1%</td><td>53</td><td>73</td><td>8</td><td>7</td><td>0</td><td>11</td><td>11</td><td>19</td><td>Low</td></tr><tr><td>Denmark</td><td>4</td><td>10</td><td>10</td><td>50.0%</td><td>20.0%</td><td>27</td><td>1</td><td>0</td><td>0</td><td>3</td><td>1298</td><td>1082</td><td>83.3%</td><td>1873</td><td>43</td><td>32</td><td>16</td><td>40</td><td>61</td><td>59</td><td>0</td><td>1</td><td>10</td><td>5</td><td>10</td><td>66.7%</td><td>25</td><td>38</td><td>8</td><td>4</td><td>0</td><td>7</td><td>7</td><td>15</td><td>Low</td></tr><tr><td>England</td><td>5</td><td>11</td><td>18</td><td>50.0%</td><td>17.2%</td><td>40</td><td>0</td><td>0</td><td>0</td><td>3</td><td>1488</td><td>1200</td><td>80.6%</td><td>2440</td><td>58</td><td>60</td><td>16</td><td>86</td><td>106</td><td>72</td><td>1</td><td>2</td><td>29</td><td>3</td><td>22</td><td>88.1%</td><td>43</td><td>45</td><td>6</td><td>5</td><td>0</td><td>11</td><td>11</td><td>16</td><td>Low</td></tr><tr><td>France</td><td>3</td><td>22</td><td>24</td><td>37.9%</td><td>6.5%</td><td>65</td><td>1</td><td>0</td><td>0</td><td>0</td><td>2066</td><td>1803</td><td>87.2%</td><td>2909</td><td>55</td><td>76</td><td>28</td><td>71</td><td>76</td><td>58</td><td>0</td><td>1</td><td>7</td><td>5</td><td>6</td><td>54.6%</td><td>36</td><td>51</td><td>5</td><td>6</td><td>0</td><td>11</td><td>11</td><td>19</td><td>Low</td></tr><tr><td>Germany</td><td>10</td><td>32</td><td>32</td><td>47.8%</td><td>15.6%</td><td>80</td><td>2</td><td>1</td><td>0</td><td>2</td><td>2774</td><td>2427</td><td>87.4%</td><td>3761</td><td>101</td><td>60</td><td>35</td><td>91</td><td>73</td><td>69</td><td>0</td><td>1</td><td>11</td><td>6</td><td>10</td><td>62.6%</td><td>63</td><td>49</td><td>12</td><td>4</td><td>0</td><td>15</td><td>15</td><td>17</td><td>High</td></tr><tr><td>Greece</td><td>5</td><td>8</td><td>18</td><td>30.7%</td><td>19.2%</td><td>32</td><td>1</td><td>1</td><td>1</td><td>0</td><td>1187</td><td>911</td><td>76.7%</td><td>2016</td><td>52</td><td>53</td><td>10</td><td>65</td><td>123</td><td>87</td><td>0</td><td>1</td><td>23</td><td>7</td><td>13</td><td>65.1%</td><td>67</td><td>48</td><td>12</td><td>9</td><td>1</td><td>12</td><td>12</td><td>20</td><td>Low</td></tr><tr><td>Italy</td><td>6</td><td>34</td><td>45</td><td>43.0%</td><td>7.5%</td><td>110</td><td>2</td><td>0</td><td>0</td><td>2</td><td>3016</td><td>2531</td><td>83.9%</td><td>4363</td><td>75</td><td>75</td><td>30</td><td>98</td><td>137</td><td>136</td><td>1</td><td>2</td><td>18</td><td>7</td><td>20</td><td>74.1%</td><td>101</td><td>89</td><td>16</td><td>16</td><td>0</td><td>18</td><td>18</td><td>19</td><td>Low</td></tr><tr><td>Netherlands</td><td>2</td><td>12</td><td>36</td><td>25.0%</td><td>4.1%</td><td>60</td><td>2</td><td>0</td><td>0</td><td>0</td><td>1556</td><td>1381</td><td>88.7%</td><td>2163</td><td>50</td><td>49</td><td>22</td><td>34</td><td>41</td><td>41</td><td>0</td><td>0</td><td>9</td><td>5</td><td>12</td><td>70.6%</td><td>35</td><td>30</td><td>3</td><td>5</td><td>0</td><td>7</td><td>7</td><td>15</td><td>Low</td></tr><tr><td>Poland</td><td>2</td><td>15</td><td>23</td><td>39.4%</td><td>5.2%</td><td>48</td><td>0</td><td>0</td><td>0</td><td>1</td><td>1059</td><td>852</td><td>80.4%</td><td>1724</td><td>55</td><td>39</td><td>14</td><td>67</td><td>87</td><td>62</td><td>0</td><td>0</td><td>8</td><td>3</td><td>6</td><td>66.7%</td><td>48</td><td>56</td><td>3</td><td>7</td><td>1</td><td>7</td><td>7</td><td>17</td><td>Low</td></tr><tr><td>Portugal</td><td>6</td><td>22</td><td>42</td><td>34.3%</td><td>9.3%</td><td>82</td><td>6</td><td>0</td><td>0</td><td>2</td><td>1891</td><td>1461</td><td>77.2%</td><td>2958</td><td>91</td><td>64</td><td>41</td><td>78</td><td>92</td><td>86</td><td>0</td><td>2</td><td>11</td><td>4</td><td>10</td><td>71.5%</td><td>73</td><td>90</td><td>10</td><td>12</td><td>0</td><td>14</td><td>14</td><td>16</td><td>Low</td></tr><tr><td>Republic of Ireland</td><td>1</td><td>7</td><td>12</td><td>36.8%</td><td>5.2%</td><td>28</td><td>0</td><td>0</td><td>0</td><td>1</td><td>851</td><td>606</td><td>71.2%</td><td>1433</td><td>43</td><td>18</td><td>8</td><td>45</td><td>78</td><td>43</td><td>1</td><td>0</td><td>23</td><td>9</td><td>17</td><td>65.4%</td><td>43</td><td>51</td><td>11</td><td>6</td><td>1</td><td>10</td><td>10</td><td>17</td><td>Low</td></tr><tr><td>Russia</td><td>5</td><td>9</td><td>31</td><td>22.5%</td><td>12.5%</td><td>59</td><td>2</td><td>0</td><td>0</td><td>1</td><td>1602</td><td>1345</td><td>83.9%</td><td>2278</td><td>40</td><td>40</td><td>21</td><td>65</td><td>74</td><td>58</td><td>0</td><td>0</td><td>8</td><td>3</td><td>10</td><td>77.0%</td><td>34</td><td>43</td><td>4</td><td>6</td><td>0</td><td>7</td><td>7</td><td>16</td><td>Low</td></tr><tr><td>Spain</td><td>12</td><td>42</td><td>33</td><td>55.9%</td><td>16.0%</td><td>100</td><td>0</td><td>1</td><td>0</td><td>2</td><td>4317</td><td>3820</td><td>88.4%</td><td>5585</td><td>69</td><td>106</td><td>44</td><td>122</td><td>102</td><td>79</td><td>0</td><td>5</td><td>8</td><td>1</td><td>15</td><td>93.8%</td><td>102</td><td>83</td><td>19</td><td>11</td><td>0</td><td>17</td><td>17</td><td>18</td><td>High</td></tr><tr><td>Sweden</td><td>5</td><td>17</td><td>19</td><td>47.2%</td><td>13.8%</td><td>39</td><td>3</td><td>0</td><td>0</td><td>1</td><td>1192</td><td>965</td><td>80.9%</td><td>1806</td><td>44</td><td>29</td><td>7</td><td>56</td><td>54</td><td>45</td><td>0</td><td>1</td><td>12</td><td>5</td><td>8</td><td>61.6%</td><td>35</td><td>51</td><td>7</td><td>7</td><td>0</td><td>9</td><td>9</td><td>18</td><td>Low</td></tr><tr><td>Ukraine</td><td>2</td><td>7</td><td>26</td><td>21.2%</td><td>6.0%</td><td>38</td><td>0</td><td>0</td><td>0</td><td>2</td><td>1276</td><td>1043</td><td>81.7%</td><td>1894</td><td>33</td><td>26</td><td>18</td><td>65</td><td>97</td><td>29</td><td>0</td><td>0</td><td>4</td><td>4</td><td>13</td><td>76.5%</td><td>48</td><td>31</td><td>4</td><td>5</td><td>0</td><td>9</td><td>9</td><td>18</td><td>Low</td></tr></tbody></table></div>"
      ]
     },
     "metadata": {
      "application/vnd.databricks.v1+output": {
       "addedWidgets": {},
       "aggData": [],
       "aggError": "",
       "aggOverflow": false,
       "aggSchema": [],
       "aggSeriesLimitReached": false,
       "aggType": "",
       "arguments": {},
       "columnCustomDisplayInfos": {},
       "data": [
        [
         "Croatia",
         4,
         13,
         12,
         "51.9%",
         "16.0%",
         32,
         0,
         0,
         0,
         2,
         1076,
         828,
         "76.9%",
         1706,
         60,
         42,
         14,
         49,
         83,
         56,
         null,
         0,
         10,
         3,
         13,
         "81.3%",
         41,
         62,
         2,
         9,
         0,
         9,
         9,
         16,
         "Low"
        ],
        [
         "Czech Republic",
         4,
         13,
         18,
         "41.9%",
         "12.9%",
         39,
         0,
         0,
         0,
         0,
         1565,
         1223,
         "78.1%",
         2358,
         46,
         68,
         21,
         62,
         98,
         37,
         2,
         1,
         10,
         6,
         9,
         "60.1%",
         53,
         73,
         8,
         7,
         0,
         11,
         11,
         19,
         "Low"
        ],
        [
         "Denmark",
         4,
         10,
         10,
         "50.0%",
         "20.0%",
         27,
         1,
         0,
         0,
         3,
         1298,
         1082,
         "83.3%",
         1873,
         43,
         32,
         16,
         40,
         61,
         59,
         0,
         1,
         10,
         5,
         10,
         "66.7%",
         25,
         38,
         8,
         4,
         0,
         7,
         7,
         15,
         "Low"
        ],
        [
         "England",
         5,
         11,
         18,
         "50.0%",
         "17.2%",
         40,
         0,
         0,
         0,
         3,
         1488,
         1200,
         "80.6%",
         2440,
         58,
         60,
         16,
         86,
         106,
         72,
         1,
         2,
         29,
         3,
         22,
         "88.1%",
         43,
         45,
         6,
         5,
         0,
         11,
         11,
         16,
         "Low"
        ],
        [
         "France",
         3,
         22,
         24,
         "37.9%",
         "6.5%",
         65,
         1,
         0,
         0,
         0,
         2066,
         1803,
         "87.2%",
         2909,
         55,
         76,
         28,
         71,
         76,
         58,
         0,
         1,
         7,
         5,
         6,
         "54.6%",
         36,
         51,
         5,
         6,
         0,
         11,
         11,
         19,
         "Low"
        ],
        [
         "Germany",
         10,
         32,
         32,
         "47.8%",
         "15.6%",
         80,
         2,
         1,
         0,
         2,
         2774,
         2427,
         "87.4%",
         3761,
         101,
         60,
         35,
         91,
         73,
         69,
         0,
         1,
         11,
         6,
         10,
         "62.6%",
         63,
         49,
         12,
         4,
         0,
         15,
         15,
         17,
         "High"
        ],
        [
         "Greece",
         5,
         8,
         18,
         "30.7%",
         "19.2%",
         32,
         1,
         1,
         1,
         0,
         1187,
         911,
         "76.7%",
         2016,
         52,
         53,
         10,
         65,
         123,
         87,
         0,
         1,
         23,
         7,
         13,
         "65.1%",
         67,
         48,
         12,
         9,
         1,
         12,
         12,
         20,
         "Low"
        ],
        [
         "Italy",
         6,
         34,
         45,
         "43.0%",
         "7.5%",
         110,
         2,
         0,
         0,
         2,
         3016,
         2531,
         "83.9%",
         4363,
         75,
         75,
         30,
         98,
         137,
         136,
         1,
         2,
         18,
         7,
         20,
         "74.1%",
         101,
         89,
         16,
         16,
         0,
         18,
         18,
         19,
         "Low"
        ],
        [
         "Netherlands",
         2,
         12,
         36,
         "25.0%",
         "4.1%",
         60,
         2,
         0,
         0,
         0,
         1556,
         1381,
         "88.7%",
         2163,
         50,
         49,
         22,
         34,
         41,
         41,
         0,
         0,
         9,
         5,
         12,
         "70.6%",
         35,
         30,
         3,
         5,
         0,
         7,
         7,
         15,
         "Low"
        ],
        [
         "Poland",
         2,
         15,
         23,
         "39.4%",
         "5.2%",
         48,
         0,
         0,
         0,
         1,
         1059,
         852,
         "80.4%",
         1724,
         55,
         39,
         14,
         67,
         87,
         62,
         0,
         0,
         8,
         3,
         6,
         "66.7%",
         48,
         56,
         3,
         7,
         1,
         7,
         7,
         17,
         "Low"
        ],
        [
         "Portugal",
         6,
         22,
         42,
         "34.3%",
         "9.3%",
         82,
         6,
         0,
         0,
         2,
         1891,
         1461,
         "77.2%",
         2958,
         91,
         64,
         41,
         78,
         92,
         86,
         0,
         2,
         11,
         4,
         10,
         "71.5%",
         73,
         90,
         10,
         12,
         0,
         14,
         14,
         16,
         "Low"
        ],
        [
         "Republic of Ireland",
         1,
         7,
         12,
         "36.8%",
         "5.2%",
         28,
         0,
         0,
         0,
         1,
         851,
         606,
         "71.2%",
         1433,
         43,
         18,
         8,
         45,
         78,
         43,
         1,
         0,
         23,
         9,
         17,
         "65.4%",
         43,
         51,
         11,
         6,
         1,
         10,
         10,
         17,
         "Low"
        ],
        [
         "Russia",
         5,
         9,
         31,
         "22.5%",
         "12.5%",
         59,
         2,
         0,
         0,
         1,
         1602,
         1345,
         "83.9%",
         2278,
         40,
         40,
         21,
         65,
         74,
         58,
         0,
         0,
         8,
         3,
         10,
         "77.0%",
         34,
         43,
         4,
         6,
         0,
         7,
         7,
         16,
         "Low"
        ],
        [
         "Spain",
         12,
         42,
         33,
         "55.9%",
         "16.0%",
         100,
         0,
         1,
         0,
         2,
         4317,
         3820,
         "88.4%",
         5585,
         69,
         106,
         44,
         122,
         102,
         79,
         0,
         5,
         8,
         1,
         15,
         "93.8%",
         102,
         83,
         19,
         11,
         0,
         17,
         17,
         18,
         "High"
        ],
        [
         "Sweden",
         5,
         17,
         19,
         "47.2%",
         "13.8%",
         39,
         3,
         0,
         0,
         1,
         1192,
         965,
         "80.9%",
         1806,
         44,
         29,
         7,
         56,
         54,
         45,
         0,
         1,
         12,
         5,
         8,
         "61.6%",
         35,
         51,
         7,
         7,
         0,
         9,
         9,
         18,
         "Low"
        ],
        [
         "Ukraine",
         2,
         7,
         26,
         "21.2%",
         "6.0%",
         38,
         0,
         0,
         0,
         2,
         1276,
         1043,
         "81.7%",
         1894,
         33,
         26,
         18,
         65,
         97,
         29,
         0,
         0,
         4,
         4,
         13,
         "76.5%",
         48,
         31,
         4,
         5,
         0,
         9,
         9,
         18,
         "Low"
        ]
       ],
       "datasetInfos": [],
       "dbfsResultPath": null,
       "isJsonSchema": true,
       "metadata": {},
       "overflow": false,
       "plotOptions": {
        "customPlotOptions": {},
        "displayType": "table",
        "pivotAggregation": null,
        "pivotColumns": null,
        "xColumns": null,
        "yColumns": null
       },
       "removedWidgets": [],
       "schema": [
        {
         "metadata": "{}",
         "name": "Team",
         "type": "\"string\""
        },
        {
         "metadata": "{}",
         "name": "Goals",
         "type": "\"integer\""
        },
        {
         "metadata": "{}",
         "name": "Shots on target",
         "type": "\"integer\""
        },
        {
         "metadata": "{}",
         "name": "Shots off target",
         "type": "\"integer\""
        },
        {
         "metadata": "{}",
         "name": "Shooting Accuracy",
         "type": "\"string\""
        },
        {
         "metadata": "{}",
         "name": "% Goals-to-shots",
         "type": "\"string\""
        },
        {
         "metadata": "{}",
         "name": "Total shots (inc. Blocked)",
         "type": "\"integer\""
        },
        {
         "metadata": "{}",
         "name": "Hit Woodwork",
         "type": "\"integer\""
        },
        {
         "metadata": "{}",
         "name": "Penalty goals",
         "type": "\"integer\""
        },
        {
         "metadata": "{}",
         "name": "Penalties not scored",
         "type": "\"integer\""
        },
        {
         "metadata": "{}",
         "name": "Headed goals",
         "type": "\"integer\""
        },
        {
         "metadata": "{}",
         "name": "Passes",
         "type": "\"integer\""
        },
        {
         "metadata": "{}",
         "name": "Passes completed",
         "type": "\"integer\""
        },
        {
         "metadata": "{}",
         "name": "Passing Accuracy",
         "type": "\"string\""
        },
        {
         "metadata": "{}",
         "name": "Touches",
         "type": "\"integer\""
        },
        {
         "metadata": "{}",
         "name": "Crosses",
         "type": "\"integer\""
        },
        {
         "metadata": "{}",
         "name": "Dribbles",
         "type": "\"integer\""
        },
        {
         "metadata": "{}",
         "name": "Corners Taken",
         "type": "\"integer\""
        },
        {
         "metadata": "{}",
         "name": "Tackles",
         "type": "\"integer\""
        },
        {
         "metadata": "{}",
         "name": "Clearances",
         "type": "\"integer\""
        },
        {
         "metadata": "{}",
         "name": "Interceptions",
         "type": "\"integer\""
        },
        {
         "metadata": "{}",
         "name": "Clearances off line",
         "type": "\"integer\""
        },
        {
         "metadata": "{}",
         "name": "Clean Sheets",
         "type": "\"integer\""
        },
        {
         "metadata": "{}",
         "name": "Blocks",
         "type": "\"integer\""
        },
        {
         "metadata": "{}",
         "name": "Goals conceded",
         "type": "\"integer\""
        },
        {
         "metadata": "{}",
         "name": "Saves made",
         "type": "\"integer\""
        },
        {
         "metadata": "{}",
         "name": "Saves-to-shots ratio",
         "type": "\"string\""
        },
        {
         "metadata": "{}",
         "name": "Fouls Won",
         "type": "\"integer\""
        },
        {
         "metadata": "{}",
         "name": "Fouls Conceded",
         "type": "\"integer\""
        },
        {
         "metadata": "{}",
         "name": "Offsides",
         "type": "\"integer\""
        },
        {
         "metadata": "{}",
         "name": "Yellow Cards",
         "type": "\"integer\""
        },
        {
         "metadata": "{}",
         "name": "Red Cards",
         "type": "\"integer\""
        },
        {
         "metadata": "{}",
         "name": "Subs on",
         "type": "\"integer\""
        },
        {
         "metadata": "{}",
         "name": "Subs off",
         "type": "\"integer\""
        },
        {
         "metadata": "{}",
         "name": "Players Used",
         "type": "\"integer\""
        },
        {
         "metadata": "{}",
         "name": "Goal rate",
         "type": "\"string\""
        }
       ],
       "type": "table"
      }
     },
     "output_type": "display_data"
    }
   ],
   "source": [
    "# team that shot more than 6 goals\n",
    "team.filter(col('Goals') > 6).display()\n",
    "team.withColumn('Goal rate', when(col('Goals') > 6, 'High').otherwise('Low')).display()\n"
   ]
  },
  {
   "cell_type": "code",
   "execution_count": 0,
   "metadata": {
    "application/vnd.databricks.v1+cell": {
     "cellMetadata": {
      "byteLimit": 2048000,
      "rowLimit": 10000
     },
     "inputWidgets": {},
     "nuid": "722c47bc-fe9d-45e2-8c9c-abb75ddb5c50",
     "showTitle": false,
     "tableResultSettingsMap": {},
     "title": ""
    }
   },
   "outputs": [
    {
     "output_type": "display_data",
     "data": {
      "text/html": [
       "<style scoped>\n",
       "  .table-result-container {\n",
       "    max-height: 300px;\n",
       "    overflow: auto;\n",
       "  }\n",
       "  table, th, td {\n",
       "    border: 1px solid black;\n",
       "    border-collapse: collapse;\n",
       "  }\n",
       "  th, td {\n",
       "    padding: 5px;\n",
       "  }\n",
       "  th {\n",
       "    text-align: left;\n",
       "  }\n",
       "</style><div class='table-result-container'><table class='table-result'><thead style='background-color: white'><tr><th>Team</th><th>Goals</th><th>Shots on target</th><th>Shots off target</th><th>Shooting Accuracy</th><th>% Goals-to-shots</th><th>Total shots (inc. Blocked)</th><th>Hit Woodwork</th><th>Penalty goals</th><th>Penalties not scored</th><th>Headed goals</th><th>Passes</th><th>Passes completed</th><th>Passing Accuracy</th><th>Touches</th><th>Crosses</th><th>Dribbles</th><th>Corners Taken</th><th>Tackles</th><th>Clearances</th><th>Interceptions</th><th>Clearances off line</th><th>Clean Sheets</th><th>Blocks</th><th>Goals conceded</th><th>Saves made</th><th>Saves-to-shots ratio</th><th>Fouls Won</th><th>Fouls Conceded</th><th>Offsides</th><th>Yellow Cards</th><th>Red Cards</th><th>Subs on</th><th>Subs off</th><th>Players Used</th></tr></thead><tbody><tr><td>Germany</td><td>10</td><td>32</td><td>32</td><td>47.8%</td><td>15.6%</td><td>80</td><td>2</td><td>1</td><td>0</td><td>2</td><td>2774</td><td>2427</td><td>87.4%</td><td>3761</td><td>101</td><td>60</td><td>35</td><td>91</td><td>73</td><td>69</td><td>0</td><td>1</td><td>11</td><td>6</td><td>10</td><td>62.6%</td><td>63</td><td>49</td><td>12</td><td>4</td><td>0</td><td>15</td><td>15</td><td>17</td></tr><tr><td>Greece</td><td>5</td><td>8</td><td>18</td><td>30.7%</td><td>19.2%</td><td>32</td><td>1</td><td>1</td><td>1</td><td>0</td><td>1187</td><td>911</td><td>76.7%</td><td>2016</td><td>52</td><td>53</td><td>10</td><td>65</td><td>123</td><td>87</td><td>0</td><td>1</td><td>23</td><td>7</td><td>13</td><td>65.1%</td><td>67</td><td>48</td><td>12</td><td>9</td><td>1</td><td>12</td><td>12</td><td>20</td></tr></tbody></table></div>"
      ]
     },
     "metadata": {
      "application/vnd.databricks.v1+output": {
       "addedWidgets": {},
       "aggData": [],
       "aggError": "",
       "aggOverflow": false,
       "aggSchema": [],
       "aggSeriesLimitReached": false,
       "aggType": "",
       "arguments": {},
       "columnCustomDisplayInfos": {},
       "data": [
        [
         "Germany",
         10,
         32,
         32,
         "47.8%",
         "15.6%",
         80,
         2,
         1,
         0,
         2,
         2774,
         2427,
         "87.4%",
         3761,
         101,
         60,
         35,
         91,
         73,
         69,
         0,
         1,
         11,
         6,
         10,
         "62.6%",
         63,
         49,
         12,
         4,
         0,
         15,
         15,
         17
        ],
        [
         "Greece",
         5,
         8,
         18,
         "30.7%",
         "19.2%",
         32,
         1,
         1,
         1,
         0,
         1187,
         911,
         "76.7%",
         2016,
         52,
         53,
         10,
         65,
         123,
         87,
         0,
         1,
         23,
         7,
         13,
         "65.1%",
         67,
         48,
         12,
         9,
         1,
         12,
         12,
         20
        ]
       ],
       "datasetInfos": [],
       "dbfsResultPath": null,
       "isJsonSchema": true,
       "metadata": {},
       "overflow": false,
       "plotOptions": {
        "customPlotOptions": {},
        "displayType": "table",
        "pivotAggregation": null,
        "pivotColumns": null,
        "xColumns": null,
        "yColumns": null
       },
       "removedWidgets": [],
       "schema": [
        {
         "metadata": "{}",
         "name": "Team",
         "type": "\"string\""
        },
        {
         "metadata": "{}",
         "name": "Goals",
         "type": "\"integer\""
        },
        {
         "metadata": "{}",
         "name": "Shots on target",
         "type": "\"integer\""
        },
        {
         "metadata": "{}",
         "name": "Shots off target",
         "type": "\"integer\""
        },
        {
         "metadata": "{}",
         "name": "Shooting Accuracy",
         "type": "\"string\""
        },
        {
         "metadata": "{}",
         "name": "% Goals-to-shots",
         "type": "\"string\""
        },
        {
         "metadata": "{}",
         "name": "Total shots (inc. Blocked)",
         "type": "\"integer\""
        },
        {
         "metadata": "{}",
         "name": "Hit Woodwork",
         "type": "\"integer\""
        },
        {
         "metadata": "{}",
         "name": "Penalty goals",
         "type": "\"integer\""
        },
        {
         "metadata": "{}",
         "name": "Penalties not scored",
         "type": "\"integer\""
        },
        {
         "metadata": "{}",
         "name": "Headed goals",
         "type": "\"integer\""
        },
        {
         "metadata": "{}",
         "name": "Passes",
         "type": "\"integer\""
        },
        {
         "metadata": "{}",
         "name": "Passes completed",
         "type": "\"integer\""
        },
        {
         "metadata": "{}",
         "name": "Passing Accuracy",
         "type": "\"string\""
        },
        {
         "metadata": "{}",
         "name": "Touches",
         "type": "\"integer\""
        },
        {
         "metadata": "{}",
         "name": "Crosses",
         "type": "\"integer\""
        },
        {
         "metadata": "{}",
         "name": "Dribbles",
         "type": "\"integer\""
        },
        {
         "metadata": "{}",
         "name": "Corners Taken",
         "type": "\"integer\""
        },
        {
         "metadata": "{}",
         "name": "Tackles",
         "type": "\"integer\""
        },
        {
         "metadata": "{}",
         "name": "Clearances",
         "type": "\"integer\""
        },
        {
         "metadata": "{}",
         "name": "Interceptions",
         "type": "\"integer\""
        },
        {
         "metadata": "{}",
         "name": "Clearances off line",
         "type": "\"integer\""
        },
        {
         "metadata": "{}",
         "name": "Clean Sheets",
         "type": "\"integer\""
        },
        {
         "metadata": "{}",
         "name": "Blocks",
         "type": "\"integer\""
        },
        {
         "metadata": "{}",
         "name": "Goals conceded",
         "type": "\"integer\""
        },
        {
         "metadata": "{}",
         "name": "Saves made",
         "type": "\"integer\""
        },
        {
         "metadata": "{}",
         "name": "Saves-to-shots ratio",
         "type": "\"string\""
        },
        {
         "metadata": "{}",
         "name": "Fouls Won",
         "type": "\"integer\""
        },
        {
         "metadata": "{}",
         "name": "Fouls Conceded",
         "type": "\"integer\""
        },
        {
         "metadata": "{}",
         "name": "Offsides",
         "type": "\"integer\""
        },
        {
         "metadata": "{}",
         "name": "Yellow Cards",
         "type": "\"integer\""
        },
        {
         "metadata": "{}",
         "name": "Red Cards",
         "type": "\"integer\""
        },
        {
         "metadata": "{}",
         "name": "Subs on",
         "type": "\"integer\""
        },
        {
         "metadata": "{}",
         "name": "Subs off",
         "type": "\"integer\""
        },
        {
         "metadata": "{}",
         "name": "Players Used",
         "type": "\"integer\""
        }
       ],
       "type": "table"
      }
     },
     "output_type": "display_data"
    }
   ],
   "source": [
    "#  team that starts with 'G\n",
    "team.filter(col('Team').startswith('G')).display()\n",
    "\n"
   ]
  },
  {
   "cell_type": "code",
   "execution_count": 0,
   "metadata": {
    "application/vnd.databricks.v1+cell": {
     "cellMetadata": {
      "byteLimit": 2048000,
      "rowLimit": 10000
     },
     "inputWidgets": {},
     "nuid": "f26ff008-a5c7-404e-99d2-7cc8170c41fd",
     "showTitle": false,
     "tableResultSettingsMap": {},
     "title": ""
    }
   },
   "outputs": [
    {
     "output_type": "display_data",
     "data": {
      "text/html": [
       "<style scoped>\n",
       "  .table-result-container {\n",
       "    max-height: 300px;\n",
       "    overflow: auto;\n",
       "  }\n",
       "  table, th, td {\n",
       "    border: 1px solid black;\n",
       "    border-collapse: collapse;\n",
       "  }\n",
       "  th, td {\n",
       "    padding: 5px;\n",
       "  }\n",
       "  th {\n",
       "    text-align: left;\n",
       "  }\n",
       "</style><div class='table-result-container'><table class='table-result'><thead style='background-color: white'><tr><th>Team</th><th>Goals</th><th>Shots on target</th><th>Shots off target</th><th>Shooting Accuracy</th></tr></thead><tbody><tr><td>Croatia</td><td>4</td><td>13</td><td>12</td><td>51.9%</td></tr><tr><td>Czech Republic</td><td>4</td><td>13</td><td>18</td><td>41.9%</td></tr><tr><td>Denmark</td><td>4</td><td>10</td><td>10</td><td>50.0%</td></tr><tr><td>England</td><td>5</td><td>11</td><td>18</td><td>50.0%</td></tr><tr><td>France</td><td>3</td><td>22</td><td>24</td><td>37.9%</td></tr><tr><td>Germany</td><td>10</td><td>32</td><td>32</td><td>47.8%</td></tr><tr><td>Greece</td><td>5</td><td>8</td><td>18</td><td>30.7%</td></tr><tr><td>Italy</td><td>6</td><td>34</td><td>45</td><td>43.0%</td></tr><tr><td>Netherlands</td><td>2</td><td>12</td><td>36</td><td>25.0%</td></tr><tr><td>Poland</td><td>2</td><td>15</td><td>23</td><td>39.4%</td></tr><tr><td>Portugal</td><td>6</td><td>22</td><td>42</td><td>34.3%</td></tr><tr><td>Republic of Ireland</td><td>1</td><td>7</td><td>12</td><td>36.8%</td></tr><tr><td>Russia</td><td>5</td><td>9</td><td>31</td><td>22.5%</td></tr><tr><td>Spain</td><td>12</td><td>42</td><td>33</td><td>55.9%</td></tr><tr><td>Sweden</td><td>5</td><td>17</td><td>19</td><td>47.2%</td></tr><tr><td>Ukraine</td><td>2</td><td>7</td><td>26</td><td>21.2%</td></tr></tbody></table></div>"
      ]
     },
     "metadata": {
      "application/vnd.databricks.v1+output": {
       "addedWidgets": {},
       "aggData": [],
       "aggError": "",
       "aggOverflow": false,
       "aggSchema": [],
       "aggSeriesLimitReached": false,
       "aggType": "",
       "arguments": {},
       "columnCustomDisplayInfos": {},
       "data": [
        [
         "Croatia",
         4,
         13,
         12,
         "51.9%"
        ],
        [
         "Czech Republic",
         4,
         13,
         18,
         "41.9%"
        ],
        [
         "Denmark",
         4,
         10,
         10,
         "50.0%"
        ],
        [
         "England",
         5,
         11,
         18,
         "50.0%"
        ],
        [
         "France",
         3,
         22,
         24,
         "37.9%"
        ],
        [
         "Germany",
         10,
         32,
         32,
         "47.8%"
        ],
        [
         "Greece",
         5,
         8,
         18,
         "30.7%"
        ],
        [
         "Italy",
         6,
         34,
         45,
         "43.0%"
        ],
        [
         "Netherlands",
         2,
         12,
         36,
         "25.0%"
        ],
        [
         "Poland",
         2,
         15,
         23,
         "39.4%"
        ],
        [
         "Portugal",
         6,
         22,
         42,
         "34.3%"
        ],
        [
         "Republic of Ireland",
         1,
         7,
         12,
         "36.8%"
        ],
        [
         "Russia",
         5,
         9,
         31,
         "22.5%"
        ],
        [
         "Spain",
         12,
         42,
         33,
         "55.9%"
        ],
        [
         "Sweden",
         5,
         17,
         19,
         "47.2%"
        ],
        [
         "Ukraine",
         2,
         7,
         26,
         "21.2%"
        ]
       ],
       "datasetInfos": [],
       "dbfsResultPath": null,
       "isJsonSchema": true,
       "metadata": {},
       "overflow": false,
       "plotOptions": {
        "customPlotOptions": {},
        "displayType": "table",
        "pivotAggregation": null,
        "pivotColumns": null,
        "xColumns": null,
        "yColumns": null
       },
       "removedWidgets": [],
       "schema": [
        {
         "metadata": "{}",
         "name": "Team",
         "type": "\"string\""
        },
        {
         "metadata": "{}",
         "name": "Goals",
         "type": "\"integer\""
        },
        {
         "metadata": "{}",
         "name": "Shots on target",
         "type": "\"integer\""
        },
        {
         "metadata": "{}",
         "name": "Shots off target",
         "type": "\"integer\""
        },
        {
         "metadata": "{}",
         "name": "Shooting Accuracy",
         "type": "\"string\""
        }
       ],
       "type": "table"
      }
     },
     "output_type": "display_data"
    },
    {
     "output_type": "display_data",
     "data": {
      "text/html": [
       "<style scoped>\n",
       "  .table-result-container {\n",
       "    max-height: 300px;\n",
       "    overflow: auto;\n",
       "  }\n",
       "  table, th, td {\n",
       "    border: 1px solid black;\n",
       "    border-collapse: collapse;\n",
       "  }\n",
       "  th, td {\n",
       "    padding: 5px;\n",
       "  }\n",
       "  th {\n",
       "    text-align: left;\n",
       "  }\n",
       "</style><div class='table-result-container'><table class='table-result'><thead style='background-color: white'><tr><th>Team</th><th>Goals</th><th>Shots on target</th><th>Shots off target</th><th>Shooting Accuracy</th><th>% Goals-to-shots</th><th>Total_shots_inc_Blocked</th></tr></thead><tbody><tr><td>Croatia</td><td>4</td><td>13</td><td>12</td><td>51.9%</td><td>16.0%</td><td>32</td></tr><tr><td>Czech Republic</td><td>4</td><td>13</td><td>18</td><td>41.9%</td><td>12.9%</td><td>39</td></tr><tr><td>Denmark</td><td>4</td><td>10</td><td>10</td><td>50.0%</td><td>20.0%</td><td>27</td></tr><tr><td>England</td><td>5</td><td>11</td><td>18</td><td>50.0%</td><td>17.2%</td><td>40</td></tr><tr><td>France</td><td>3</td><td>22</td><td>24</td><td>37.9%</td><td>6.5%</td><td>65</td></tr><tr><td>Germany</td><td>10</td><td>32</td><td>32</td><td>47.8%</td><td>15.6%</td><td>80</td></tr><tr><td>Greece</td><td>5</td><td>8</td><td>18</td><td>30.7%</td><td>19.2%</td><td>32</td></tr><tr><td>Italy</td><td>6</td><td>34</td><td>45</td><td>43.0%</td><td>7.5%</td><td>110</td></tr><tr><td>Netherlands</td><td>2</td><td>12</td><td>36</td><td>25.0%</td><td>4.1%</td><td>60</td></tr><tr><td>Poland</td><td>2</td><td>15</td><td>23</td><td>39.4%</td><td>5.2%</td><td>48</td></tr><tr><td>Portugal</td><td>6</td><td>22</td><td>42</td><td>34.3%</td><td>9.3%</td><td>82</td></tr><tr><td>Republic of Ireland</td><td>1</td><td>7</td><td>12</td><td>36.8%</td><td>5.2%</td><td>28</td></tr><tr><td>Russia</td><td>5</td><td>9</td><td>31</td><td>22.5%</td><td>12.5%</td><td>59</td></tr><tr><td>Spain</td><td>12</td><td>42</td><td>33</td><td>55.9%</td><td>16.0%</td><td>100</td></tr><tr><td>Sweden</td><td>5</td><td>17</td><td>19</td><td>47.2%</td><td>13.8%</td><td>39</td></tr><tr><td>Ukraine</td><td>2</td><td>7</td><td>26</td><td>21.2%</td><td>6.0%</td><td>38</td></tr></tbody></table></div>"
      ]
     },
     "metadata": {
      "application/vnd.databricks.v1+output": {
       "addedWidgets": {},
       "aggData": [],
       "aggError": "",
       "aggOverflow": false,
       "aggSchema": [],
       "aggSeriesLimitReached": false,
       "aggType": "",
       "arguments": {},
       "columnCustomDisplayInfos": {},
       "data": [
        [
         "Croatia",
         4,
         13,
         12,
         "51.9%",
         "16.0%",
         32
        ],
        [
         "Czech Republic",
         4,
         13,
         18,
         "41.9%",
         "12.9%",
         39
        ],
        [
         "Denmark",
         4,
         10,
         10,
         "50.0%",
         "20.0%",
         27
        ],
        [
         "England",
         5,
         11,
         18,
         "50.0%",
         "17.2%",
         40
        ],
        [
         "France",
         3,
         22,
         24,
         "37.9%",
         "6.5%",
         65
        ],
        [
         "Germany",
         10,
         32,
         32,
         "47.8%",
         "15.6%",
         80
        ],
        [
         "Greece",
         5,
         8,
         18,
         "30.7%",
         "19.2%",
         32
        ],
        [
         "Italy",
         6,
         34,
         45,
         "43.0%",
         "7.5%",
         110
        ],
        [
         "Netherlands",
         2,
         12,
         36,
         "25.0%",
         "4.1%",
         60
        ],
        [
         "Poland",
         2,
         15,
         23,
         "39.4%",
         "5.2%",
         48
        ],
        [
         "Portugal",
         6,
         22,
         42,
         "34.3%",
         "9.3%",
         82
        ],
        [
         "Republic of Ireland",
         1,
         7,
         12,
         "36.8%",
         "5.2%",
         28
        ],
        [
         "Russia",
         5,
         9,
         31,
         "22.5%",
         "12.5%",
         59
        ],
        [
         "Spain",
         12,
         42,
         33,
         "55.9%",
         "16.0%",
         100
        ],
        [
         "Sweden",
         5,
         17,
         19,
         "47.2%",
         "13.8%",
         39
        ],
        [
         "Ukraine",
         2,
         7,
         26,
         "21.2%",
         "6.0%",
         38
        ]
       ],
       "datasetInfos": [],
       "dbfsResultPath": null,
       "isJsonSchema": true,
       "metadata": {},
       "overflow": false,
       "plotOptions": {
        "customPlotOptions": {},
        "displayType": "table",
        "pivotAggregation": null,
        "pivotColumns": null,
        "xColumns": null,
        "yColumns": null
       },
       "removedWidgets": [],
       "schema": [
        {
         "metadata": "{}",
         "name": "Team",
         "type": "\"string\""
        },
        {
         "metadata": "{}",
         "name": "Goals",
         "type": "\"integer\""
        },
        {
         "metadata": "{}",
         "name": "Shots on target",
         "type": "\"integer\""
        },
        {
         "metadata": "{}",
         "name": "Shots off target",
         "type": "\"integer\""
        },
        {
         "metadata": "{}",
         "name": "Shooting Accuracy",
         "type": "\"string\""
        },
        {
         "metadata": "{}",
         "name": "% Goals-to-shots",
         "type": "\"string\""
        },
        {
         "metadata": "{}",
         "name": "Total_shots_inc_Blocked",
         "type": "\"integer\""
        }
       ],
       "type": "table"
      }
     },
     "output_type": "display_data"
    }
   ],
   "source": [
    "# only select first 7 columns\n",
    "selected_columns = team.select(team.columns[:5]).display()\n",
    "# Rename since this was giving error due to name \n",
    "team = team.withColumnRenamed(\"Total shots (inc. Blocked)\", \"Total_shots_inc_Blocked\")\n",
    "selected_columns2 = team.select(team.columns[:7]).display()\n",
    "\n"
   ]
  },
  {
   "cell_type": "code",
   "execution_count": 0,
   "metadata": {
    "application/vnd.databricks.v1+cell": {
     "cellMetadata": {
      "byteLimit": 2048000,
      "rowLimit": 10000
     },
     "inputWidgets": {},
     "nuid": "e4890067-eb4e-44e3-861a-3b125d4ed156",
     "showTitle": false,
     "tableResultSettingsMap": {},
     "title": ""
    }
   },
   "outputs": [
    {
     "output_type": "display_data",
     "data": {
      "text/html": [
       "<style scoped>\n",
       "  .table-result-container {\n",
       "    max-height: 300px;\n",
       "    overflow: auto;\n",
       "  }\n",
       "  table, th, td {\n",
       "    border: 1px solid black;\n",
       "    border-collapse: collapse;\n",
       "  }\n",
       "  th, td {\n",
       "    padding: 5px;\n",
       "  }\n",
       "  th {\n",
       "    text-align: left;\n",
       "  }\n",
       "</style><div class='table-result-container'><table class='table-result'><thead style='background-color: white'><tr><th>Subs on</th><th>Subs off</th><th>Players Used</th><th>Team</th><th>Goals</th><th>Shots on target</th><th>Shots off target</th></tr></thead><tbody><tr><td>9</td><td>9</td><td>16</td><td>Croatia</td><td>4</td><td>13</td><td>12</td></tr><tr><td>11</td><td>11</td><td>19</td><td>Czech Republic</td><td>4</td><td>13</td><td>18</td></tr><tr><td>7</td><td>7</td><td>15</td><td>Denmark</td><td>4</td><td>10</td><td>10</td></tr><tr><td>11</td><td>11</td><td>16</td><td>England</td><td>5</td><td>11</td><td>18</td></tr><tr><td>11</td><td>11</td><td>19</td><td>France</td><td>3</td><td>22</td><td>24</td></tr><tr><td>15</td><td>15</td><td>17</td><td>Germany</td><td>10</td><td>32</td><td>32</td></tr><tr><td>12</td><td>12</td><td>20</td><td>Greece</td><td>5</td><td>8</td><td>18</td></tr><tr><td>18</td><td>18</td><td>19</td><td>Italy</td><td>6</td><td>34</td><td>45</td></tr><tr><td>7</td><td>7</td><td>15</td><td>Netherlands</td><td>2</td><td>12</td><td>36</td></tr><tr><td>7</td><td>7</td><td>17</td><td>Poland</td><td>2</td><td>15</td><td>23</td></tr><tr><td>14</td><td>14</td><td>16</td><td>Portugal</td><td>6</td><td>22</td><td>42</td></tr><tr><td>10</td><td>10</td><td>17</td><td>Republic of Ireland</td><td>1</td><td>7</td><td>12</td></tr><tr><td>7</td><td>7</td><td>16</td><td>Russia</td><td>5</td><td>9</td><td>31</td></tr><tr><td>17</td><td>17</td><td>18</td><td>Spain</td><td>12</td><td>42</td><td>33</td></tr><tr><td>9</td><td>9</td><td>18</td><td>Sweden</td><td>5</td><td>17</td><td>19</td></tr><tr><td>9</td><td>9</td><td>18</td><td>Ukraine</td><td>2</td><td>7</td><td>26</td></tr></tbody></table></div>"
      ]
     },
     "metadata": {
      "application/vnd.databricks.v1+output": {
       "addedWidgets": {},
       "aggData": [],
       "aggError": "",
       "aggOverflow": false,
       "aggSchema": [],
       "aggSeriesLimitReached": false,
       "aggType": "",
       "arguments": {},
       "columnCustomDisplayInfos": {},
       "data": [
        [
         9,
         9,
         16,
         "Croatia",
         4,
         13,
         12
        ],
        [
         11,
         11,
         19,
         "Czech Republic",
         4,
         13,
         18
        ],
        [
         7,
         7,
         15,
         "Denmark",
         4,
         10,
         10
        ],
        [
         11,
         11,
         16,
         "England",
         5,
         11,
         18
        ],
        [
         11,
         11,
         19,
         "France",
         3,
         22,
         24
        ],
        [
         15,
         15,
         17,
         "Germany",
         10,
         32,
         32
        ],
        [
         12,
         12,
         20,
         "Greece",
         5,
         8,
         18
        ],
        [
         18,
         18,
         19,
         "Italy",
         6,
         34,
         45
        ],
        [
         7,
         7,
         15,
         "Netherlands",
         2,
         12,
         36
        ],
        [
         7,
         7,
         17,
         "Poland",
         2,
         15,
         23
        ],
        [
         14,
         14,
         16,
         "Portugal",
         6,
         22,
         42
        ],
        [
         10,
         10,
         17,
         "Republic of Ireland",
         1,
         7,
         12
        ],
        [
         7,
         7,
         16,
         "Russia",
         5,
         9,
         31
        ],
        [
         17,
         17,
         18,
         "Spain",
         12,
         42,
         33
        ],
        [
         9,
         9,
         18,
         "Sweden",
         5,
         17,
         19
        ],
        [
         9,
         9,
         18,
         "Ukraine",
         2,
         7,
         26
        ]
       ],
       "datasetInfos": [],
       "dbfsResultPath": null,
       "isJsonSchema": true,
       "metadata": {},
       "overflow": false,
       "plotOptions": {
        "customPlotOptions": {},
        "displayType": "table",
        "pivotAggregation": null,
        "pivotColumns": null,
        "xColumns": null,
        "yColumns": null
       },
       "removedWidgets": [],
       "schema": [
        {
         "metadata": "{}",
         "name": "Subs on",
         "type": "\"integer\""
        },
        {
         "metadata": "{}",
         "name": "Subs off",
         "type": "\"integer\""
        },
        {
         "metadata": "{}",
         "name": "Players Used",
         "type": "\"integer\""
        },
        {
         "metadata": "{}",
         "name": "Team",
         "type": "\"string\""
        },
        {
         "metadata": "{}",
         "name": "Goals",
         "type": "\"integer\""
        },
        {
         "metadata": "{}",
         "name": "Shots on target",
         "type": "\"integer\""
        },
        {
         "metadata": "{}",
         "name": "Shots off target",
         "type": "\"integer\""
        }
       ],
       "type": "table"
      }
     },
     "output_type": "display_data"
    }
   ],
   "source": [
    "# Select only last 3 columns and first 4 columns\n",
    "selected_columns = team.select(*team.columns[-3:], *team.columns[:4]).display()\n"
   ]
  },
  {
   "cell_type": "code",
   "execution_count": 0,
   "metadata": {
    "application/vnd.databricks.v1+cell": {
     "cellMetadata": {
      "byteLimit": 2048000,
      "rowLimit": 10000
     },
     "inputWidgets": {},
     "nuid": "2430d5f5-f8bb-4fba-a3ae-6f7e2963cb1b",
     "showTitle": false,
     "tableResultSettingsMap": {},
     "title": ""
    }
   },
   "outputs": [
    {
     "output_type": "display_data",
     "data": {
      "text/html": [
       "<style scoped>\n",
       "  .table-result-container {\n",
       "    max-height: 300px;\n",
       "    overflow: auto;\n",
       "  }\n",
       "  table, th, td {\n",
       "    border: 1px solid black;\n",
       "    border-collapse: collapse;\n",
       "  }\n",
       "  th, td {\n",
       "    padding: 5px;\n",
       "  }\n",
       "  th {\n",
       "    text-align: left;\n",
       "  }\n",
       "</style><div class='table-result-container'><table class='table-result'><thead style='background-color: white'><tr><th>Team</th><th>Shooting Accuracy</th></tr></thead><tbody><tr><td>England</td><td>50.0%</td></tr><tr><td>Italy</td><td>43.0%</td></tr><tr><td>Russia</td><td>22.5%</td></tr></tbody></table></div>"
      ]
     },
     "metadata": {
      "application/vnd.databricks.v1+output": {
       "addedWidgets": {},
       "aggData": [],
       "aggError": "",
       "aggOverflow": false,
       "aggSchema": [],
       "aggSeriesLimitReached": false,
       "aggType": "",
       "arguments": {},
       "columnCustomDisplayInfos": {},
       "data": [
        [
         "England",
         "50.0%"
        ],
        [
         "Italy",
         "43.0%"
        ],
        [
         "Russia",
         "22.5%"
        ]
       ],
       "datasetInfos": [],
       "dbfsResultPath": null,
       "isJsonSchema": true,
       "metadata": {},
       "overflow": false,
       "plotOptions": {
        "customPlotOptions": {},
        "displayType": "table",
        "pivotAggregation": null,
        "pivotColumns": null,
        "xColumns": null,
        "yColumns": null
       },
       "removedWidgets": [],
       "schema": [
        {
         "metadata": "{}",
         "name": "Team",
         "type": "\"string\""
        },
        {
         "metadata": "{}",
         "name": "Shooting Accuracy",
         "type": "\"string\""
        }
       ],
       "type": "table"
      }
     },
     "output_type": "display_data"
    }
   ],
   "source": [
    "# Present only the Shooting Accuracy from England, Italy and Russia\n",
    "selected_columns = team.filter(col('Team').isin('England', 'Italy', 'Russia')) \\\n",
    "                         .select('Team', 'Shooting Accuracy').display()"
   ]
  }
 ],
 "metadata": {
  "application/vnd.databricks.v1+notebook": {
   "computePreferences": null,
   "dashboards": [],
   "environmentMetadata": {
    "base_environment": "",
    "client": "1"
   },
   "language": "python",
   "notebookMetadata": {
    "mostRecentlyExecutedCommandWithImplicitDF": {
     "commandId": 1995375218626683,
     "dataframes": [
      "_sqldf"
     ]
    },
    "pythonIndentUnit": 4
   },
   "notebookName": "Notebook 4 practice",
   "widgets": {}
  }
 },
 "nbformat": 4,
 "nbformat_minor": 0
}
